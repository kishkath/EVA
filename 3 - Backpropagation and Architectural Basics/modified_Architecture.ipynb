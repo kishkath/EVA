{
  "nbformat": 4,
  "nbformat_minor": 0,
  "metadata": {
    "colab": {
      "provenance": []
    },
    "kernelspec": {
      "name": "python3",
      "display_name": "Python 3"
    },
    "accelerator": "GPU"
  },
  "cells": [
    {
      "cell_type": "code",
      "metadata": {
        "id": "0m2JWFliFfKT"
      },
      "source": [
        "from __future__ import print_function\n",
        "import torch\n",
        "import torch.nn as nn\n",
        "import torch.nn.functional as F\n",
        "import torch.optim as optim\n",
        "from torchvision import datasets, transforms"
      ],
      "execution_count": 1,
      "outputs": []
    },
    {
      "cell_type": "code",
      "metadata": {
        "id": "h_Cx9q2QFgM7"
      },
      "source": [
        "class Net(nn.Module):\n",
        "    def __init__(self):\n",
        "        super(Net, self).__init__()\n",
        "        self.conv1 = nn.Conv2d(1, 8, 3, padding=1) #input -? OUtput? RF\n",
        "        self.conv1_bn = nn.BatchNorm2d(8)\n",
        "        self.pool1 = nn.MaxPool2d(2,2)\n",
        "        self.conv2 = nn.Conv2d(8,16,3,padding=1)\n",
        "        self.conv2_bn = nn.BatchNorm2d(16)\n",
        "        self.pool2 = nn.MaxPool2d(2,2)\n",
        "        self.conv3 = nn.Conv2d(16,32,3,padding=1)\n",
        "        self.conv3_bn = nn.BatchNorm2d(32)\n",
        "        self.pool3 = nn.MaxPool2d(2,2)\n",
        "        self.conv4 = nn.Conv2d(32,16,3)\n",
        "        self.conv4_bn = nn.BatchNorm2d(16)\n",
        "        self.pool4 = nn.MaxPool2d(2,2)\n",
        "        self.fc1 = nn.Linear(16*5*5,10)\n",
        "  \n",
        "        self.dropout1 = nn.Dropout2d(0.25)\n",
        "        self.dropout2 = nn.Dropout2d(0.25)\n",
        "\n",
        "    def forward(self, x):\n",
        "        x = self.conv1(x) \n",
        "        x = self.conv1_bn(x)\n",
        "        x = F.relu(x)\n",
        "        x = self.pool1(x)\n",
        "        x = self.conv2(x)\n",
        "        x = self.conv2_bn(x)\n",
        "        x = F.relu(x)\n",
        "        x = self.dropout1(x)\n",
        "        x = self.pool2(x)\n",
        "        x = self.conv3(x)\n",
        "        x = self.conv3_bn(x)\n",
        "        x = F.relu(x)\n",
        "        x = self.dropout2(x)\n",
        "        x = self.conv4(x)\n",
        "        x = self.conv4_bn(x)\n",
        "        x = F.relu(x)\n",
        "        x = x.reshape(-1,16*5*5)\n",
        "        x = self.fc1(x)\n",
        "        return F.log_softmax(x)"
      ],
      "execution_count": 109,
      "outputs": []
    },
    {
      "cell_type": "code",
      "metadata": {
        "id": "xdydjYTZFyi3",
        "colab": {
          "base_uri": "https://localhost:8080/"
        },
        "outputId": "c4ce4508-3fa0-4e3c-b405-0872d67e6f86"
      },
      "source": [
        "!pip install torchsummary\n",
        "from torchsummary import summary\n",
        "use_cuda = torch.cuda.is_available()\n",
        "device = torch.device(\"cuda\" if use_cuda else \"cpu\")\n",
        "model = Net().to(device)\n",
        "summary(model, input_size=(1, 28, 28))"
      ],
      "execution_count": 110,
      "outputs": [
        {
          "output_type": "stream",
          "name": "stdout",
          "text": [
            "Looking in indexes: https://pypi.org/simple, https://us-python.pkg.dev/colab-wheels/public/simple/\n",
            "Requirement already satisfied: torchsummary in /usr/local/lib/python3.8/dist-packages (1.5.1)\n",
            "----------------------------------------------------------------\n",
            "        Layer (type)               Output Shape         Param #\n",
            "================================================================\n",
            "            Conv2d-1            [-1, 8, 28, 28]              80\n",
            "       BatchNorm2d-2            [-1, 8, 28, 28]              16\n",
            "         MaxPool2d-3            [-1, 8, 14, 14]               0\n",
            "            Conv2d-4           [-1, 16, 14, 14]           1,168\n",
            "       BatchNorm2d-5           [-1, 16, 14, 14]              32\n",
            "         Dropout2d-6           [-1, 16, 14, 14]               0\n",
            "         MaxPool2d-7             [-1, 16, 7, 7]               0\n",
            "            Conv2d-8             [-1, 32, 7, 7]           4,640\n",
            "       BatchNorm2d-9             [-1, 32, 7, 7]              64\n",
            "        Dropout2d-10             [-1, 32, 7, 7]               0\n",
            "           Conv2d-11             [-1, 16, 5, 5]           4,624\n",
            "      BatchNorm2d-12             [-1, 16, 5, 5]              32\n",
            "           Linear-13                   [-1, 10]           4,010\n",
            "================================================================\n",
            "Total params: 14,666\n",
            "Trainable params: 14,666\n",
            "Non-trainable params: 0\n",
            "----------------------------------------------------------------\n",
            "Input size (MB): 0.00\n",
            "Forward/backward pass size (MB): 0.23\n",
            "Params size (MB): 0.06\n",
            "Estimated Total Size (MB): 0.29\n",
            "----------------------------------------------------------------\n"
          ]
        },
        {
          "output_type": "stream",
          "name": "stderr",
          "text": [
            "<ipython-input-109-d36b69b817c9>:40: UserWarning: Implicit dimension choice for log_softmax has been deprecated. Change the call to include dim=X as an argument.\n",
            "  return F.log_softmax(x)\n"
          ]
        }
      ]
    },
    {
      "cell_type": "code",
      "metadata": {
        "id": "DqTWLaM5GHgH"
      },
      "source": [
        "\n",
        "\n",
        "torch.manual_seed(1)\n",
        "batch_size = 128\n",
        "\n",
        "kwargs = {'num_workers': 1, 'pin_memory': True} if use_cuda else {}\n",
        "train_loader = torch.utils.data.DataLoader(\n",
        "    datasets.MNIST('../data', train=True, download=True,\n",
        "                    transform=transforms.Compose([\n",
        "                        transforms.ToTensor(),\n",
        "                        transforms.Normalize((0.1307,), (0.3081,))\n",
        "                    ])),\n",
        "    batch_size=batch_size, shuffle=True, **kwargs)\n",
        "test_loader = torch.utils.data.DataLoader(\n",
        "    datasets.MNIST('../data', train=False, transform=transforms.Compose([\n",
        "                        transforms.ToTensor(),\n",
        "                        transforms.Normalize((0.1307,), (0.3081,))\n",
        "                    ])),\n",
        "    batch_size=batch_size, shuffle=True, **kwargs)\n"
      ],
      "execution_count": 111,
      "outputs": []
    },
    {
      "cell_type": "code",
      "metadata": {
        "id": "8fDefDhaFlwH"
      },
      "source": [
        "from tqdm import tqdm\n",
        "def train(model, device, train_loader, optimizer, epoch):\n",
        "    model.train()\n",
        "    pbar = tqdm(train_loader)\n",
        "    for batch_idx, (data, target) in enumerate(pbar):\n",
        "        data, target = data.to(device), target.to(device)\n",
        "        optimizer.zero_grad()\n",
        "        output = model(data)\n",
        "        loss = F.nll_loss(output, target)\n",
        "        loss.backward()\n",
        "        optimizer.step()\n",
        "        pbar.set_description(desc= f'loss={loss.item()} batch_id={batch_idx}')\n",
        "\n",
        "\n",
        "def test(model, device, test_loader):\n",
        "    model.eval()\n",
        "    test_loss = 0\n",
        "    correct = 0\n",
        "    with torch.no_grad():\n",
        "        for data, target in test_loader:\n",
        "            data, target = data.to(device), target.to(device)\n",
        "            output = model(data)\n",
        "            test_loss += F.nll_loss(output, target, reduction='sum').item()  # sum up batch loss\n",
        "            pred = output.argmax(dim=1, keepdim=True)  # get the index of the max log-probability\n",
        "            correct += pred.eq(target.view_as(pred)).sum().item()\n",
        "\n",
        "    test_loss /= len(test_loader.dataset)\n",
        "\n",
        "    print('\\nTest set: Average loss: {:.4f}, Accuracy: {}/{} ({:.2f}%)\\n'.format(\n",
        "        test_loss, correct, len(test_loader.dataset),\n",
        "        100. * correct / len(test_loader.dataset)))"
      ],
      "execution_count": 112,
      "outputs": []
    },
    {
      "cell_type": "code",
      "metadata": {
        "id": "MMWbLWO6FuHb",
        "colab": {
          "base_uri": "https://localhost:8080/"
        },
        "outputId": "0c05eb14-4f24-48f5-af05-d2a61345dd7a"
      },
      "source": [
        "\n",
        "model = Net().to(device)\n",
        "optimizer = optim.SGD(model.parameters(), lr=0.01, momentum=0.9)\n",
        "\n",
        "for epoch in range(1, 20):\n",
        "    print(\"Epoch: \",epoch)\n",
        "    print(\"--------------\")\n",
        "    train(model, device, train_loader, optimizer, epoch)\n",
        "    test(model, device, test_loader)"
      ],
      "execution_count": 113,
      "outputs": [
        {
          "output_type": "stream",
          "name": "stdout",
          "text": [
            "Epoch:  1\n",
            "--------------\n"
          ]
        },
        {
          "output_type": "stream",
          "name": "stderr",
          "text": [
            "  0%|          | 0/469 [00:00<?, ?it/s]<ipython-input-109-d36b69b817c9>:40: UserWarning: Implicit dimension choice for log_softmax has been deprecated. Change the call to include dim=X as an argument.\n",
            "  return F.log_softmax(x)\n",
            "loss=0.14157654345035553 batch_id=468: 100%|██████████| 469/469 [00:17<00:00, 26.12it/s]\n"
          ]
        },
        {
          "output_type": "stream",
          "name": "stdout",
          "text": [
            "\n",
            "Test set: Average loss: 0.0670, Accuracy: 9785/10000 (97.85%)\n",
            "\n",
            "Epoch:  2\n",
            "--------------\n"
          ]
        },
        {
          "output_type": "stream",
          "name": "stderr",
          "text": [
            "loss=0.06746566295623779 batch_id=468: 100%|██████████| 469/469 [00:14<00:00, 32.93it/s]\n"
          ]
        },
        {
          "output_type": "stream",
          "name": "stdout",
          "text": [
            "\n",
            "Test set: Average loss: 0.0477, Accuracy: 9830/10000 (98.30%)\n",
            "\n",
            "Epoch:  3\n",
            "--------------\n"
          ]
        },
        {
          "output_type": "stream",
          "name": "stderr",
          "text": [
            "loss=0.0667879655957222 batch_id=468: 100%|██████████| 469/469 [00:14<00:00, 32.63it/s]\n"
          ]
        },
        {
          "output_type": "stream",
          "name": "stdout",
          "text": [
            "\n",
            "Test set: Average loss: 0.0407, Accuracy: 9852/10000 (98.52%)\n",
            "\n",
            "Epoch:  4\n",
            "--------------\n"
          ]
        },
        {
          "output_type": "stream",
          "name": "stderr",
          "text": [
            "loss=0.05491636320948601 batch_id=468: 100%|██████████| 469/469 [00:14<00:00, 32.16it/s]\n"
          ]
        },
        {
          "output_type": "stream",
          "name": "stdout",
          "text": [
            "\n",
            "Test set: Average loss: 0.0384, Accuracy: 9871/10000 (98.71%)\n",
            "\n",
            "Epoch:  5\n",
            "--------------\n"
          ]
        },
        {
          "output_type": "stream",
          "name": "stderr",
          "text": [
            "loss=0.031515952199697495 batch_id=468: 100%|██████████| 469/469 [00:14<00:00, 31.30it/s]\n"
          ]
        },
        {
          "output_type": "stream",
          "name": "stdout",
          "text": [
            "\n",
            "Test set: Average loss: 0.0319, Accuracy: 9885/10000 (98.85%)\n",
            "\n",
            "Epoch:  6\n",
            "--------------\n"
          ]
        },
        {
          "output_type": "stream",
          "name": "stderr",
          "text": [
            "loss=0.040687981992959976 batch_id=468: 100%|██████████| 469/469 [00:14<00:00, 32.01it/s]\n"
          ]
        },
        {
          "output_type": "stream",
          "name": "stdout",
          "text": [
            "\n",
            "Test set: Average loss: 0.0329, Accuracy: 9878/10000 (98.78%)\n",
            "\n",
            "Epoch:  7\n",
            "--------------\n"
          ]
        },
        {
          "output_type": "stream",
          "name": "stderr",
          "text": [
            "loss=0.08007332682609558 batch_id=468: 100%|██████████| 469/469 [00:14<00:00, 31.48it/s]\n"
          ]
        },
        {
          "output_type": "stream",
          "name": "stdout",
          "text": [
            "\n",
            "Test set: Average loss: 0.0320, Accuracy: 9884/10000 (98.84%)\n",
            "\n",
            "Epoch:  8\n",
            "--------------\n"
          ]
        },
        {
          "output_type": "stream",
          "name": "stderr",
          "text": [
            "loss=0.023730916902422905 batch_id=468: 100%|██████████| 469/469 [00:14<00:00, 32.97it/s]\n"
          ]
        },
        {
          "output_type": "stream",
          "name": "stdout",
          "text": [
            "\n",
            "Test set: Average loss: 0.0272, Accuracy: 9910/10000 (99.10%)\n",
            "\n",
            "Epoch:  9\n",
            "--------------\n"
          ]
        },
        {
          "output_type": "stream",
          "name": "stderr",
          "text": [
            "loss=0.018825998529791832 batch_id=468: 100%|██████████| 469/469 [00:14<00:00, 32.66it/s]\n"
          ]
        },
        {
          "output_type": "stream",
          "name": "stdout",
          "text": [
            "\n",
            "Test set: Average loss: 0.0260, Accuracy: 9909/10000 (99.09%)\n",
            "\n",
            "Epoch:  10\n",
            "--------------\n"
          ]
        },
        {
          "output_type": "stream",
          "name": "stderr",
          "text": [
            "loss=0.01291016023606062 batch_id=468: 100%|██████████| 469/469 [00:15<00:00, 31.25it/s]\n"
          ]
        },
        {
          "output_type": "stream",
          "name": "stdout",
          "text": [
            "\n",
            "Test set: Average loss: 0.0267, Accuracy: 9904/10000 (99.04%)\n",
            "\n",
            "Epoch:  11\n",
            "--------------\n"
          ]
        },
        {
          "output_type": "stream",
          "name": "stderr",
          "text": [
            "loss=0.029386267066001892 batch_id=468: 100%|██████████| 469/469 [00:14<00:00, 31.89it/s]\n"
          ]
        },
        {
          "output_type": "stream",
          "name": "stdout",
          "text": [
            "\n",
            "Test set: Average loss: 0.0261, Accuracy: 9905/10000 (99.05%)\n",
            "\n",
            "Epoch:  12\n",
            "--------------\n"
          ]
        },
        {
          "output_type": "stream",
          "name": "stderr",
          "text": [
            "loss=0.014224191196262836 batch_id=468: 100%|██████████| 469/469 [00:14<00:00, 32.57it/s]\n"
          ]
        },
        {
          "output_type": "stream",
          "name": "stdout",
          "text": [
            "\n",
            "Test set: Average loss: 0.0236, Accuracy: 9920/10000 (99.20%)\n",
            "\n",
            "Epoch:  13\n",
            "--------------\n"
          ]
        },
        {
          "output_type": "stream",
          "name": "stderr",
          "text": [
            "loss=0.057570770382881165 batch_id=468: 100%|██████████| 469/469 [00:14<00:00, 31.39it/s]\n"
          ]
        },
        {
          "output_type": "stream",
          "name": "stdout",
          "text": [
            "\n",
            "Test set: Average loss: 0.0244, Accuracy: 9913/10000 (99.13%)\n",
            "\n",
            "Epoch:  14\n",
            "--------------\n"
          ]
        },
        {
          "output_type": "stream",
          "name": "stderr",
          "text": [
            "loss=0.006078090984374285 batch_id=468: 100%|██████████| 469/469 [00:14<00:00, 32.84it/s]\n"
          ]
        },
        {
          "output_type": "stream",
          "name": "stdout",
          "text": [
            "\n",
            "Test set: Average loss: 0.0261, Accuracy: 9909/10000 (99.09%)\n",
            "\n",
            "Epoch:  15\n",
            "--------------\n"
          ]
        },
        {
          "output_type": "stream",
          "name": "stderr",
          "text": [
            "loss=0.15223008394241333 batch_id=468: 100%|██████████| 469/469 [00:14<00:00, 32.88it/s]\n"
          ]
        },
        {
          "output_type": "stream",
          "name": "stdout",
          "text": [
            "\n",
            "Test set: Average loss: 0.0246, Accuracy: 9913/10000 (99.13%)\n",
            "\n",
            "Epoch:  16\n",
            "--------------\n"
          ]
        },
        {
          "output_type": "stream",
          "name": "stderr",
          "text": [
            "loss=0.0050852056592702866 batch_id=468: 100%|██████████| 469/469 [00:15<00:00, 29.56it/s]\n"
          ]
        },
        {
          "output_type": "stream",
          "name": "stdout",
          "text": [
            "\n",
            "Test set: Average loss: 0.0257, Accuracy: 9908/10000 (99.08%)\n",
            "\n",
            "Epoch:  17\n",
            "--------------\n"
          ]
        },
        {
          "output_type": "stream",
          "name": "stderr",
          "text": [
            "loss=0.012222692370414734 batch_id=468: 100%|██████████| 469/469 [00:14<00:00, 33.07it/s]\n"
          ]
        },
        {
          "output_type": "stream",
          "name": "stdout",
          "text": [
            "\n",
            "Test set: Average loss: 0.0234, Accuracy: 9913/10000 (99.13%)\n",
            "\n",
            "Epoch:  18\n",
            "--------------\n"
          ]
        },
        {
          "output_type": "stream",
          "name": "stderr",
          "text": [
            "loss=0.051050424575805664 batch_id=468: 100%|██████████| 469/469 [00:14<00:00, 32.60it/s]\n"
          ]
        },
        {
          "output_type": "stream",
          "name": "stdout",
          "text": [
            "\n",
            "Test set: Average loss: 0.0229, Accuracy: 9920/10000 (99.20%)\n",
            "\n",
            "Epoch:  19\n",
            "--------------\n"
          ]
        },
        {
          "output_type": "stream",
          "name": "stderr",
          "text": [
            "loss=0.018453702330589294 batch_id=468: 100%|██████████| 469/469 [00:14<00:00, 31.36it/s]\n"
          ]
        },
        {
          "output_type": "stream",
          "name": "stdout",
          "text": [
            "\n",
            "Test set: Average loss: 0.0247, Accuracy: 9914/10000 (99.14%)\n",
            "\n"
          ]
        }
      ]
    },
    {
      "cell_type": "code",
      "metadata": {
        "id": "So5uk4EkHW6R"
      },
      "source": [
        "### Iteration1: \n",
        "\n",
        "Epochs: , BATCHSIZE = 128\n",
        "\n",
        "# ----------------------------------------------------------------\n",
        "#         Layer (type)               Output Shape         Param #\n",
        "# ================================================================\n",
        "#             Conv2d-1           [-1, 32, 28, 28]             320\n",
        "#        BatchNorm2d-2           [-1, 32, 28, 28]              64\n",
        "#          MaxPool2d-3           [-1, 32, 14, 14]               0\n",
        "#             Conv2d-4           [-1, 64, 14, 14]          18,496\n",
        "#        BatchNorm2d-5           [-1, 64, 14, 14]             128\n",
        "#          Dropout2d-6           [-1, 64, 14, 14]               0\n",
        "#          MaxPool2d-7             [-1, 64, 7, 7]               0\n",
        "#             Linear-8                   [-1, 10]          31,370\n",
        "# ================================================================\n",
        "# Total params: 50,378\n",
        "# Trainable params: 50,378\n",
        "# Non-trainable params: 0\n",
        "\n",
        "# loss=0.04137827828526497 batch_id=468: 100%|██████████| 469/469 [00:14<00:00, 31.52it/s]\n",
        "\n",
        "# Test set: Average loss: 0.0502, Accuracy: 9828/10000 (98.28%)\n",
        "\n",
        "# loss=0.05746664106845856 batch_id=468: 100%|██████████| 469/469 [00:14<00:00, 31.78it/s]\n",
        "\n",
        "# Test set: Average loss: 0.0536, Accuracy: 9818/10000 (98.18%)\n",
        "\n",
        "# loss=0.0651572197675705 batch_id=468: 100%|██████████| 469/469 [00:14<00:00, 31.59it/s]\n",
        "\n",
        "# Test set: Average loss: 0.0390, Accuracy: 9866/10000 (98.66%)\n",
        "\n",
        "# loss=0.02148214727640152 batch_id=468: 100%|██████████| 469/469 [00:15<00:00, 30.87it/s]\n",
        "\n",
        "# Test set: Average loss: 0.0389, Accuracy: 9871/10000 (98.71%)\n",
        "\n",
        "# loss=0.008850262500345707 batch_id=468: 100%|██████████| 469/469 [00:14<00:00, 31.39it/s]\n",
        "\n",
        "# Test set: Average loss: 0.0337, Accuracy: 9891/10000 (98.91%)\n",
        "\n",
        "# loss=0.01182077918201685 batch_id=468: 100%|██████████| 469/469 [00:14<00:00, 31.59it/s]\n",
        "\n",
        "# Test set: Average loss: 0.0326, Accuracy: 9886/10000 (98.86%)\n",
        "\n",
        "# loss=0.007367847952991724 batch_id=468: 100%|██████████| 469/469 [00:15<00:00, 31.19it/s]\n",
        "\n",
        "# Test set: Average loss: 0.0277, Accuracy: 9899/10000 (98.99%)\n",
        "\n",
        "# loss=0.005205400753766298 batch_id=468: 100%|██████████| 469/469 [00:15<00:00, 31.17it/s]\n",
        "\n",
        "# Test set: Average loss: 0.0364, Accuracy: 9874/10000 (98.74%)\n",
        "\n",
        "# loss=0.025386208668351173 batch_id=468: 100%|██████████| 469/469 [00:15<00:00, 31.17it/s]\n",
        "\n",
        "# Test set: Average loss: 0.0294, Accuracy: 9901/10000 (99.01%)\n",
        "\n",
        "# loss=0.016618864610791206 batch_id=468: 100%|██████████| 469/469 [00:14<00:00, 31.67it/s]\n",
        "\n",
        "# Test set: Average loss: 0.0302, Accuracy: 9895/10000 (98.95%)\n",
        "\n",
        "# loss=0.05144502595067024 batch_id=468: 100%|██████████| 469/469 [00:15<00:00, 31.22it/s]\n",
        "\n",
        "# Test set: Average loss: 0.0330, Accuracy: 9896/10000 (98.96%)\n",
        "\n",
        "# loss=0.01883302442729473 batch_id=468: 100%|██████████| 469/469 [00:14<00:00, 31.49it/s]\n",
        "\n",
        "# Test set: Average loss: 0.0306, Accuracy: 9897/10000 (98.97%)\n",
        "\n",
        "# loss=0.025095218792557716 batch_id=468: 100%|██████████| 469/469 [00:14<00:00, 31.62it/s]\n",
        "\n",
        "# Test set: Average loss: 0.0289, Accuracy: 9902/10000 (99.02%)\n",
        "\n",
        "# loss=0.001917584682814777 batch_id=468: 100%|██████████| 469/469 [00:14<00:00, 31.56it/s]\n",
        "\n",
        "# Test set: Average loss: 0.0316, Accuracy: 9898/10000 (98.98%)\n",
        "\n",
        "# loss=0.022400440648198128 batch_id=468: 100%|██████████| 469/469 [00:14<00:00, 31.33it/s]\n",
        "\n",
        "# Test set: Average loss: 0.0276, Accuracy: 9909/10000 (99.09%)\n",
        "\n",
        "###################################################################################################\n",
        "\n",
        "\n",
        "## Iteration2: \n",
        "\n",
        "Epochs: 15, BATCHSIZE = 128\n",
        "\n",
        "# ----------------------------------------------------------------\n",
        "#         Layer (type)               Output Shape         Param #\n",
        "# ================================================================\n",
        "#             Conv2d-1           [-1, 32, 28, 28]             320\n",
        "#        BatchNorm2d-2           [-1, 32, 28, 28]              64\n",
        "#          MaxPool2d-3           [-1, 32, 14, 14]               0\n",
        "#             Conv2d-4           [-1, 64, 14, 14]          18,496\n",
        "#        BatchNorm2d-5           [-1, 64, 14, 14]             128\n",
        "#          Dropout2d-6           [-1, 64, 14, 14]               0\n",
        "#          MaxPool2d-7             [-1, 64, 7, 7]               0\n",
        "#             Conv2d-8             [-1, 64, 5, 5]          36,928\n",
        "#        BatchNorm2d-9             [-1, 64, 5, 5]             128\n",
        "#         Dropout2d-10             [-1, 64, 5, 5]               0\n",
        "#            Conv2d-11             [-1, 64, 3, 3]          36,928\n",
        "#       BatchNorm2d-12             [-1, 64, 3, 3]             128\n",
        "#            Conv2d-13             [-1, 10, 1, 1]           5,770\n",
        "# ================================================================\n",
        "# Total params: 98,890\n",
        "# Trainable params: 98,890\n",
        "# Non-trainable params: 0\n",
        "\n",
        "# loss=0.06406193226575851 batch_id=468: 100%|██████████| 469/469 [00:20<00:00, 23.25it/s]Epoch:  1\n",
        "\n",
        "\n",
        "#  Test set: Average loss: 0.0419, Accuracy: 9875/10000 (98.75%)\n",
        "\n",
        "# loss=0.028208402916789055 batch_id=468: 100%|██████████| 469/469 [00:16<00:00, 28.16it/s]Epoch:  2\n",
        "\n",
        "\n",
        "#  Test set: Average loss: 0.0322, Accuracy: 9898/10000 (98.98%)\n",
        "\n",
        "# loss=0.088231660425663 batch_id=468: 100%|██████████| 469/469 [00:16<00:00, 28.38it/s]Epoch:  3\n",
        "\n",
        "\n",
        "#  Test set: Average loss: 0.0288, Accuracy: 9901/10000 (99.01%)\n",
        "\n",
        "# loss=0.04493309184908867 batch_id=468: 100%|██████████| 469/469 [00:16<00:00, 28.20it/s]Epoch:  4\n",
        "\n",
        "\n",
        "#  Test set: Average loss: 0.0273, Accuracy: 9905/10000 (99.05%)\n",
        "\n",
        "# loss=0.056821998208761215 batch_id=468: 100%|██████████| 469/469 [00:17<00:00, 27.30it/s]Epoch:  5\n",
        "\n",
        "\n",
        "#  Test set: Average loss: 0.0247, Accuracy: 9920/10000 (99.20%)\n",
        "\n",
        "# loss=0.01396572683006525 batch_id=468: 100%|██████████| 469/469 [00:16<00:00, 28.31it/s]Epoch:  6\n",
        "\n",
        "\n",
        "#  Test set: Average loss: 0.0220, Accuracy: 9926/10000 (99.26%)\n",
        "\n",
        "# loss=0.03296106681227684 batch_id=468: 100%|██████████| 469/469 [00:16<00:00, 28.49it/s]Epoch:  7\n",
        "\n",
        "\n",
        "#  Test set: Average loss: 0.0221, Accuracy: 9932/10000 (99.32%)\n",
        "\n",
        "# loss=0.026116609573364258 batch_id=468: 100%|██████████| 469/469 [00:16<00:00, 27.73it/s]Epoch:  8\n",
        "\n",
        "\n",
        "#  Test set: Average loss: 0.0246, Accuracy: 9920/10000 (99.20%)\n",
        "\n",
        "# loss=0.028498271480202675 batch_id=468: 100%|██████████| 469/469 [00:16<00:00, 29.01it/s]Epoch:  9\n",
        "\n",
        "\n",
        "#  Test set: Average loss: 0.0212, Accuracy: 9934/10000 (99.34%)\n",
        "\n",
        "# loss=0.00737975537776947 batch_id=468: 100%|██████████| 469/469 [00:16<00:00, 28.71it/s]Epoch:  10\n",
        "\n",
        "\n",
        "#  Test set: Average loss: 0.0217, Accuracy: 9932/10000 (99.32%)\n",
        "\n",
        "# loss=0.0027402618434280157 batch_id=468: 100%|██████████| 469/469 [00:16<00:00, 28.25it/s]Epoch:  11\n",
        "\n",
        "\n",
        "#  Test set: Average loss: 0.0213, Accuracy: 9930/10000 (99.30%)\n",
        "\n",
        "# loss=0.04822007939219475 batch_id=468: 100%|██████████| 469/469 [00:16<00:00, 28.48it/s]Epoch:  12\n",
        "\n",
        "\n",
        "#  Test set: Average loss: 0.0204, Accuracy: 9941/10000 (99.41%)\n",
        "\n",
        "# loss=0.0029580360278487206 batch_id=468: 100%|██████████| 469/469 [00:16<00:00, 28.25it/s]Epoch:  13\n",
        "\n",
        "\n",
        "#  Test set: Average loss: 0.0228, Accuracy: 9925/10000 (99.25%)\n",
        "\n",
        "# loss=0.017925599589943886 batch_id=468: 100%|██████████| 469/469 [00:16<00:00, 28.41it/s]Epoch:  14\n",
        "\n",
        "\n",
        "#  Test set: Average loss: 0.0210, Accuracy: 9930/10000 (99.30%)\n",
        "\n",
        "# loss=0.028340427204966545 batch_id=468: 100%|██████████| 469/469 [00:16<00:00, 28.27it/s]Epoch:  15\n",
        "\n",
        "\n",
        "#  Test set: Average loss: 0.0212, Accuracy: 9936/10000 (99.36%)\n",
        "\n",
        "\n",
        "\n",
        "### Iteration3: \n",
        "\n",
        "Epochs: 17, BATCHSIZE = 128\n",
        "\n",
        "#         Layer (type)               Output Shape         Param #\n",
        "# ================================================================\n",
        "#             Conv2d-1            [-1, 4, 28, 28]              40\n",
        "#        BatchNorm2d-2            [-1, 4, 28, 28]               8\n",
        "#          MaxPool2d-3            [-1, 4, 14, 14]               0\n",
        "#             Conv2d-4            [-1, 8, 14, 14]             296\n",
        "#        BatchNorm2d-5            [-1, 8, 14, 14]              16\n",
        "#          Dropout2d-6            [-1, 8, 14, 14]               0\n",
        "#          MaxPool2d-7              [-1, 8, 7, 7]               0\n",
        "#             Conv2d-8             [-1, 16, 7, 7]           1,168\n",
        "#        BatchNorm2d-9             [-1, 16, 7, 7]              32\n",
        "#            Linear-10                  [-1, 240]         188,400\n",
        "#         Dropout2d-11                  [-1, 240]               0\n",
        "#            Linear-12                   [-1, 10]           2,410\n",
        "# ================================================================\n",
        "# Total params: 192,370\n",
        "# Trainable params: 192,370\n",
        "# Non-trainable params: 0\n",
        "\n",
        "\n",
        "# Epoch:  1\n",
        "# --------------\n",
        "#   0%|          | 0/469 [00:00<?, ?it/s]<ipython-input-18-cd0f03b322d7>:35: UserWarning: Implicit dimension choice for log_softmax has been deprecated. Change the call to include dim=X as an argument.\n",
        "#   return F.log_softmax(x)\n",
        "# loss=0.11563298851251602 batch_id=468: 100%|██████████| 469/469 [00:23<00:00, 19.99it/s]\n",
        "\n",
        "# Test set: Average loss: 0.0996, Accuracy: 9683/10000 (96.83%)\n",
        "\n",
        "# Epoch:  2\n",
        "# --------------\n",
        "# loss=0.154499813914299 batch_id=468: 100%|██████████| 469/469 [00:17<00:00, 27.04it/s]\n",
        "\n",
        "# Test set: Average loss: 0.0672, Accuracy: 9777/10000 (97.77%)\n",
        "\n",
        "# Epoch:  3\n",
        "# --------------\n",
        "# loss=0.06712274998426437 batch_id=468: 100%|██████████| 469/469 [00:16<00:00, 27.96it/s]\n",
        "\n",
        "# Test set: Average loss: 0.0563, Accuracy: 9808/10000 (98.08%)\n",
        "\n",
        "# Epoch:  4\n",
        "# --------------\n",
        "# loss=0.18289309740066528 batch_id=468: 100%|██████████| 469/469 [00:16<00:00, 28.44it/s]\n",
        "\n",
        "# Test set: Average loss: 0.0520, Accuracy: 9830/10000 (98.30%)\n",
        "\n",
        "# Epoch:  5\n",
        "# --------------\n",
        "# loss=0.1344272941350937 batch_id=468: 100%|██████████| 469/469 [00:17<00:00, 27.12it/s]\n",
        "\n",
        "# Test set: Average loss: 0.0507, Accuracy: 9836/10000 (98.36%)\n",
        "\n",
        "# Epoch:  6\n",
        "# --------------\n",
        "# loss=0.11444560438394547 batch_id=468: 100%|██████████| 469/469 [00:16<00:00, 28.49it/s]\n",
        "\n",
        "# Test set: Average loss: 0.0427, Accuracy: 9851/10000 (98.51%)\n",
        "\n",
        "# Epoch:  7\n",
        "# --------------\n",
        "# loss=0.14254280924797058 batch_id=468: 100%|██████████| 469/469 [00:16<00:00, 28.80it/s]\n",
        "\n",
        "# Test set: Average loss: 0.0409, Accuracy: 9865/10000 (98.65%)\n",
        "\n",
        "# Epoch:  8\n",
        "# --------------\n",
        "# loss=0.021893447265028954 batch_id=468: 100%|██████████| 469/469 [00:16<00:00, 27.69it/s]\n",
        "\n",
        "# Test set: Average loss: 0.0416, Accuracy: 9854/10000 (98.54%)\n",
        "\n",
        "# Epoch:  9\n",
        "# --------------\n",
        "# loss=0.026272214949131012 batch_id=468: 100%|██████████| 469/469 [00:17<00:00, 27.03it/s]\n",
        "\n",
        "# Test set: Average loss: 0.0404, Accuracy: 9863/10000 (98.63%)\n",
        "\n",
        "# Epoch:  10\n",
        "# --------------\n",
        "# loss=0.060075994580984116 batch_id=468: 100%|██████████| 469/469 [00:15<00:00, 29.54it/s]\n",
        "\n",
        "# Test set: Average loss: 0.0411, Accuracy: 9856/10000 (98.56%)\n",
        "\n",
        "# Epoch:  11\n",
        "# --------------\n",
        "# loss=0.07377823442220688 batch_id=468: 100%|██████████| 469/469 [00:16<00:00, 29.16it/s]\n",
        "\n",
        "# Test set: Average loss: 0.0372, Accuracy: 9878/10000 (98.78%)\n",
        "\n",
        "# Epoch:  12\n",
        "# --------------\n",
        "# loss=0.0055307913571596146 batch_id=468: 100%|██████████| 469/469 [00:15<00:00, 29.83it/s]\n",
        "\n",
        "# Test set: Average loss: 0.0395, Accuracy: 9879/10000 (98.79%)\n",
        "\n",
        "# Epoch:  13\n",
        "# --------------\n",
        "# loss=0.04446995258331299 batch_id=468: 100%|██████████| 469/469 [00:15<00:00, 30.45it/s]\n",
        "\n",
        "# Test set: Average loss: 0.0359, Accuracy: 9878/10000 (98.78%)\n",
        "\n",
        "# Epoch:  14\n",
        "# --------------\n",
        "# loss=0.029250210151076317 batch_id=468: 100%|██████████| 469/469 [00:15<00:00, 30.07it/s]\n",
        "\n",
        "# Test set: Average loss: 0.0437, Accuracy: 9863/10000 (98.63%)\n",
        "\n",
        "# Epoch:  15\n",
        "# --------------\n",
        "# loss=0.0585387647151947 batch_id=468: 100%|██████████| 469/469 [00:16<00:00, 28.66it/s]\n",
        "\n",
        "# Test set: Average loss: 0.0395, Accuracy: 9871/10000 (98.71%)\n",
        "\n",
        "# Epoch:  16\n",
        "# --------------\n",
        "# loss=0.10638707876205444 batch_id=468: 100%|██████████| 469/469 [00:15<00:00, 30.56it/s]\n",
        "\n",
        "# Test set: Average loss: 0.0358, Accuracy: 9881/10000 (98.81%)\n",
        "\n",
        "# Epoch:  17\n",
        "# --------------\n",
        "# loss=0.028931356966495514 batch_id=468: 100%|██████████| 469/469 [00:15<00:00, 29.99it/s]\n",
        "\n",
        "# Test set: Average loss: 0.0360, Accuracy: 9885/10000 (98.85%)\n"
      ],
      "execution_count": 23,
      "outputs": []
    },
    {
      "cell_type": "code",
      "source": [],
      "metadata": {
        "id": "7wUBx_02UfiV"
      },
      "execution_count": null,
      "outputs": []
    },
    {
      "cell_type": "code",
      "source": [],
      "metadata": {
        "id": "E5TToR_9UFfz"
      },
      "execution_count": null,
      "outputs": []
    }
  ]
}