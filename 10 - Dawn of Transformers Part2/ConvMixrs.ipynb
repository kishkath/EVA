{
  "nbformat": 4,
  "nbformat_minor": 0,
  "metadata": {
    "colab": {
      "provenance": []
    },
    "kernelspec": {
      "name": "python3",
      "display_name": "Python 3"
    },
    "language_info": {
      "name": "python"
    },
    "accelerator": "GPU",
    "gpuClass": "standard"
  },
  "cells": [
    {
      "cell_type": "code",
      "execution_count": null,
      "metadata": {
        "id": "9AXqqNWIRe74"
      },
      "outputs": [],
      "source": [
        "# Import necessary Libraries\n",
        "import torch \n",
        "import torchvision\n",
        "import torchvision.transforms as transforms\n",
        "import torch.nn.functional as F\n",
        "import torch.nn as nn \n",
        "import torch.optim as optim\n",
        "import numpy as np \n",
        "import matplotlib.pyplot as plt \n",
        "import time\n",
        "import argparse"
      ]
    },
    {
      "cell_type": "code",
      "source": [
        "# Bulding the network using depth-wise seperable convolutions such that no specific initialization of keys,queries,values are needed in a encoder.\n",
        "# Depth wise seperable convolutions does all this things in a wise manner.\n",
        "\n",
        "# Residual connection aka skip connection (Similar to Resnet), where we gonna add the residue to the output as in forward method.\n",
        "class Residual(nn.Module):\n",
        "  def __init__(self,fn):\n",
        "    super().__init__()\n",
        "    self.fn = fn \n",
        "  def forward(self,x):\n",
        "    return self.fn(x) + x \n",
        "\n",
        "# Attention process\n",
        "def ConvMixer(dim,depth,kernel_size=5,patch_size=2,n_classes=10):\n",
        "  return nn.Sequential(\n",
        "      # Performing Convolutions with the patch_size, such that all the patches get into linear-fashioned embeddings.\n",
        "      # Uses GELU as to add non-linearity.\n",
        "      # Doing Normalization for this batch.\n",
        "      nn.Conv2d(3,dim,kernel_size=patch_size,stride=patch_size),\n",
        "      nn.GELU(),\n",
        "      nn.BatchNorm2d(dim),\n",
        "      # The following first 3 steps does the depth-wise seperable convolution + activation function + BatchNormalization\n",
        "      # The next 3 steps \n",
        "      *[nn.Sequential(\n",
        "          Residual(nn.Sequential(nn.Conv2d(dim,dim,kernel_size,groups=dim,padding='same'),\n",
        "          nn.GELU(),\n",
        "          nn.BatchNorm2d(dim))),\n",
        "          nn.Conv2d(dim,dim,kernel_size=1),\n",
        "          nn.GELU(),\n",
        "          nn.BatchNorm2d(dim)\n",
        "      )for i in range(depth)],\n",
        "      nn.AdaptiveAvgPool2d((1,1)),\n",
        "      nn.Flatten(),\n",
        "      nn.Linear(dim,n_classes)\n",
        "  )"
      ],
      "metadata": {
        "id": "ncMCx_LiS0KS"
      },
      "execution_count": null,
      "outputs": []
    },
    {
      "cell_type": "code",
      "source": [
        "# Getting data \n",
        "\n",
        "cifar10_mean = (0.4914,0.4822,0.4465)\n",
        "cifar10_std = (0.2471,0.2435,0.2616)\n",
        "\n",
        "train_transforms = transforms.Compose([\n",
        "    transforms.RandomHorizontalFlip(p=0.5),\n",
        "    transforms.RandomResizedCrop(32,scale=(0.75,1.0),ratio=(1.0,1.0)),\n",
        "    transforms.RandAugment(num_ops=1,magnitude=8),\n",
        "    transforms.ColorJitter(0.1,0.1,0.1),\n",
        "    transforms.ToTensor(),\n",
        "    transforms.Normalize(cifar10_mean,cifar10_std),\n",
        "    transforms.RandomErasing(p=0.25)])\n",
        "\n",
        "test_transforms = transforms.Compose([\n",
        "    transforms.ToTensor(),\n",
        "    transforms.Normalize(cifar10_mean,cifar10_std)])\n",
        "\n",
        "trainset = torchvision.datasets.CIFAR10(root='./data',download=True,train=True,transform=train_transforms)\n",
        "trainloader = torch.utils.data.DataLoader(trainset,batch_size=128,shuffle=True,num_workers=2)\n",
        "\n",
        "testset = torchvision.datasets.CIFAR10(root='./data',download=True,train=False,transform=test_transforms)\n",
        "testloader = torch.utils.data.DataLoader(testset,batch_size=128,num_workers=2)\n",
        "\n"
      ],
      "metadata": {
        "colab": {
          "base_uri": "https://localhost:8080/"
        },
        "id": "XdiE1_KmVNF9",
        "outputId": "a99ac1d1-a817-420e-faeb-a11bd6365ca7"
      },
      "execution_count": null,
      "outputs": [
        {
          "output_type": "stream",
          "name": "stdout",
          "text": [
            "Files already downloaded and verified\n",
            "Files already downloaded and verified\n"
          ]
        }
      ]
    },
    {
      "cell_type": "code",
      "source": [
        "epochs = 24\n",
        "depth,hdim,psize,conv_ks,clip_norm = 10,256,2,5,True\n",
        "lr_scheduler = lambda t: np.interp([t],[0,epochs*2//5,epochs*4//5,epochs],[0,0.01,0.01/20,0])[0]"
      ],
      "metadata": {
        "id": "3K0V5od2XLxJ"
      },
      "execution_count": null,
      "outputs": []
    },
    {
      "cell_type": "code",
      "source": [
        "model = ConvMixer(hdim,depth,patch_size=psize,kernel_size=conv_ks,n_classes=10)\n",
        "model = nn.DataParallel(model,device_ids=[0]).cuda()\n",
        "optimiz = optim.AdamW(model.parameters(),lr=0.01,weight_decay=0.01)\n",
        "criterion = nn.CrossEntropyLoss()\n",
        "scaler = torch.cuda.amp.GradScaler()"
      ],
      "metadata": {
        "id": "Q4CgJvj4YBwM"
      },
      "execution_count": null,
      "outputs": []
    },
    {
      "cell_type": "code",
      "source": [
        "from tqdm import tqdm\n",
        "\n",
        "for ep in range(epochs):\n",
        "  start = time.time()\n",
        "  train_loss,train_acc,n = 0,0,0 \n",
        "  \n",
        "  pbar = tqdm(trainloader)\n",
        " \n",
        "  processed = 0\n",
        "  correct =0 \n",
        "  for batch_idx,(data,target) in enumerate(pbar):\n",
        "    model.train()\n",
        "    data,target = data.cuda(),target.cuda()\n",
        "    lr = lr_scheduler(ep+(batch_idx+1)/len(trainloader))\n",
        "    optimiz.param_groups[0].update(lr=lr)\n",
        "    optimiz.zero_grad() \n",
        "    \n",
        "    \n",
        "    with torch.cuda.amp.autocast():\n",
        "      output = model(data)\n",
        "      loss = criterion(output,target) \n",
        "\n",
        "    scaler.scale(loss).backward()\n",
        "    if clip_norm:\n",
        "      scaler.unscale_(optimiz)\n",
        "      nn.utils.clip_grad_norm_(model.parameters(),1.0)\n",
        "    scaler.step(optimiz)\n",
        "    scaler.update()\n",
        "    train_loss += loss.item() \n",
        "    \n",
        "    pred = output.argmax(dim=1,keepdim=True)\n",
        "    correct += pred.eq(target.view_as(pred)).sum().item()\n",
        "    processed += len(data)\n",
        "\n",
        "    pbar.set_description(desc=f\"Loss={loss.item()} Batch_id={batch_idx} train-acc={100*correct/processed:0.2f}\")\n",
        "\n",
        "  model.eval()\n",
        "  test_acc = 0\n",
        "  m = 0\n",
        "  test_loss =0 \n",
        "  correct = 0\n",
        "  with torch.no_grad():\n",
        "    for data,target in testloader:\n",
        "      data,target = data.cuda(),target.cuda() \n",
        "      with torch.cuda.amp.autocast():\n",
        "        output = model(data)\n",
        "      test_loss += criterion(output,target).item()\n",
        "      pred = output.argmax(dim=1,keepdim=True)\n",
        "      correct += pred.eq(target.view_as(pred)).sum().item()\n",
        "      m += target.size(0)\n",
        "\n",
        "  test_loss = test_loss/len(testloader.dataset)\n",
        "  print(f\"Test-Loss: {test_loss} val-accuracy: {correct/m, 100.*correct/m}\")\n",
        "  \n",
        "  \n",
        "  print(f'ConvMixer: Time: {time.time() - start:.1f}, lr: {lr:.6f}')\n"
      ],
      "metadata": {
        "colab": {
          "base_uri": "https://localhost:8080/"
        },
        "id": "Vbh52eTEY_X_",
        "outputId": "ebd4673a-7289-447d-af72-6860c7525d0e"
      },
      "execution_count": null,
      "outputs": [
        {
          "output_type": "stream",
          "name": "stderr",
          "text": [
            "Loss=0.9519866704940796 Batch_id=390 train-acc=60.62: 100%|██████████| 391/391 [01:14<00:00,  5.28it/s]\n"
          ]
        },
        {
          "output_type": "stream",
          "name": "stdout",
          "text": [
            "Test-Loss: 0.007870556640625 val-accuracy: (0.6507, 65.07)\n",
            "ConvMixer: Time: 77.7, lr: 0.001111\n"
          ]
        },
        {
          "output_type": "stream",
          "name": "stderr",
          "text": [
            "Loss=0.8901956677436829 Batch_id=390 train-acc=65.13: 100%|██████████| 391/391 [01:15<00:00,  5.17it/s]\n"
          ]
        },
        {
          "output_type": "stream",
          "name": "stdout",
          "text": [
            "Test-Loss: 0.00811865234375 val-accuracy: (0.6667, 66.67)\n",
            "ConvMixer: Time: 79.0, lr: 0.002222\n"
          ]
        },
        {
          "output_type": "stream",
          "name": "stderr",
          "text": [
            "Loss=0.7415332198143005 Batch_id=390 train-acc=69.11: 100%|██████████| 391/391 [01:16<00:00,  5.14it/s]\n"
          ]
        },
        {
          "output_type": "stream",
          "name": "stdout",
          "text": [
            "Test-Loss: 0.006064208984375 val-accuracy: (0.7419, 74.19)\n",
            "ConvMixer: Time: 79.5, lr: 0.003333\n"
          ]
        },
        {
          "output_type": "stream",
          "name": "stderr",
          "text": [
            "Loss=0.859330952167511 Batch_id=390 train-acc=72.83: 100%|██████████| 391/391 [01:16<00:00,  5.12it/s]\n"
          ]
        },
        {
          "output_type": "stream",
          "name": "stdout",
          "text": [
            "Test-Loss: 0.0051286865234375 val-accuracy: (0.7801, 78.01)\n",
            "ConvMixer: Time: 79.8, lr: 0.004444\n"
          ]
        },
        {
          "output_type": "stream",
          "name": "stderr",
          "text": [
            "Loss=0.6765726804733276 Batch_id=390 train-acc=75.50: 100%|██████████| 391/391 [01:16<00:00,  5.11it/s]\n"
          ]
        },
        {
          "output_type": "stream",
          "name": "stdout",
          "text": [
            "Test-Loss: 0.004757421875 val-accuracy: (0.7946, 79.46)\n",
            "ConvMixer: Time: 79.9, lr: 0.005556\n"
          ]
        },
        {
          "output_type": "stream",
          "name": "stderr",
          "text": [
            "Loss=0.64264976978302 Batch_id=390 train-acc=76.87: 100%|██████████| 391/391 [01:16<00:00,  5.12it/s]\n"
          ]
        },
        {
          "output_type": "stream",
          "name": "stdout",
          "text": [
            "Test-Loss: 0.005041845703125 val-accuracy: (0.7875, 78.75)\n",
            "ConvMixer: Time: 79.8, lr: 0.006667\n"
          ]
        },
        {
          "output_type": "stream",
          "name": "stderr",
          "text": [
            "Loss=0.5921646356582642 Batch_id=390 train-acc=78.23: 100%|██████████| 391/391 [01:15<00:00,  5.19it/s]\n"
          ]
        },
        {
          "output_type": "stream",
          "name": "stdout",
          "text": [
            "Test-Loss: 0.0043831787109375 val-accuracy: (0.8099, 80.99)\n",
            "ConvMixer: Time: 79.6, lr: 0.007778\n"
          ]
        },
        {
          "output_type": "stream",
          "name": "stderr",
          "text": [
            "Loss=0.9091554880142212 Batch_id=390 train-acc=79.11: 100%|██████████| 391/391 [01:14<00:00,  5.23it/s]\n"
          ]
        },
        {
          "output_type": "stream",
          "name": "stdout",
          "text": [
            "Test-Loss: 0.0042706787109375 val-accuracy: (0.815, 81.5)\n",
            "ConvMixer: Time: 79.3, lr: 0.008889\n"
          ]
        },
        {
          "output_type": "stream",
          "name": "stderr",
          "text": [
            "Loss=0.7849539518356323 Batch_id=390 train-acc=79.90: 100%|██████████| 391/391 [01:14<00:00,  5.23it/s]\n"
          ]
        },
        {
          "output_type": "stream",
          "name": "stdout",
          "text": [
            "Test-Loss: 0.00443883056640625 val-accuracy: (0.8174, 81.74)\n",
            "ConvMixer: Time: 78.8, lr: 0.010000\n"
          ]
        },
        {
          "output_type": "stream",
          "name": "stderr",
          "text": [
            "Loss=0.46423134207725525 Batch_id=390 train-acc=80.54: 100%|██████████| 391/391 [01:10<00:00,  5.55it/s]\n"
          ]
        },
        {
          "output_type": "stream",
          "name": "stdout",
          "text": [
            "Test-Loss: 0.0037575927734375 val-accuracy: (0.8368, 83.68)\n",
            "ConvMixer: Time: 73.5, lr: 0.009050\n"
          ]
        },
        {
          "output_type": "stream",
          "name": "stderr",
          "text": [
            "Loss=0.5162789821624756 Batch_id=390 train-acc=82.51: 100%|██████████| 391/391 [01:09<00:00,  5.64it/s]\n"
          ]
        },
        {
          "output_type": "stream",
          "name": "stdout",
          "text": [
            "Test-Loss: 0.0034214111328125 val-accuracy: (0.8523, 85.23)\n",
            "ConvMixer: Time: 73.5, lr: 0.008100\n"
          ]
        },
        {
          "output_type": "stream",
          "name": "stderr",
          "text": [
            "Loss=0.5699135065078735 Batch_id=390 train-acc=83.94: 100%|██████████| 391/391 [01:09<00:00,  5.66it/s]\n"
          ]
        },
        {
          "output_type": "stream",
          "name": "stdout",
          "text": [
            "Test-Loss: 0.00348258056640625 val-accuracy: (0.8509, 85.09)\n",
            "ConvMixer: Time: 72.1, lr: 0.007150\n"
          ]
        },
        {
          "output_type": "stream",
          "name": "stderr",
          "text": [
            "Loss=0.4112052917480469 Batch_id=390 train-acc=84.99: 100%|██████████| 391/391 [01:08<00:00,  5.67it/s]\n"
          ]
        },
        {
          "output_type": "stream",
          "name": "stdout",
          "text": [
            "Test-Loss: 0.00281409912109375 val-accuracy: (0.8753, 87.53)\n",
            "ConvMixer: Time: 73.2, lr: 0.006200\n"
          ]
        },
        {
          "output_type": "stream",
          "name": "stderr",
          "text": [
            "Loss=0.31334465742111206 Batch_id=390 train-acc=86.12: 100%|██████████| 391/391 [01:09<00:00,  5.66it/s]\n"
          ]
        },
        {
          "output_type": "stream",
          "name": "stdout",
          "text": [
            "Test-Loss: 0.00288087158203125 val-accuracy: (0.8765, 87.65)\n",
            "ConvMixer: Time: 72.1, lr: 0.005250\n"
          ]
        },
        {
          "output_type": "stream",
          "name": "stderr",
          "text": [
            "Loss=0.4022236466407776 Batch_id=390 train-acc=87.22: 100%|██████████| 391/391 [01:09<00:00,  5.66it/s]\n"
          ]
        },
        {
          "output_type": "stream",
          "name": "stdout",
          "text": [
            "Test-Loss: 0.00269033203125 val-accuracy: (0.8837, 88.37)\n",
            "ConvMixer: Time: 72.9, lr: 0.004300\n"
          ]
        },
        {
          "output_type": "stream",
          "name": "stderr",
          "text": [
            "Loss=0.2903965413570404 Batch_id=390 train-acc=88.63: 100%|██████████| 391/391 [01:09<00:00,  5.66it/s]\n"
          ]
        },
        {
          "output_type": "stream",
          "name": "stdout",
          "text": [
            "Test-Loss: 0.0025605712890625 val-accuracy: (0.8913, 89.13)\n",
            "ConvMixer: Time: 72.2, lr: 0.003350\n"
          ]
        },
        {
          "output_type": "stream",
          "name": "stderr",
          "text": [
            "Loss=0.24843725562095642 Batch_id=390 train-acc=89.67: 100%|██████████| 391/391 [01:10<00:00,  5.55it/s]\n"
          ]
        },
        {
          "output_type": "stream",
          "name": "stdout",
          "text": [
            "Test-Loss: 0.0023769775390625 val-accuracy: (0.8994, 89.94)\n",
            "ConvMixer: Time: 73.5, lr: 0.002400\n"
          ]
        },
        {
          "output_type": "stream",
          "name": "stderr",
          "text": [
            "Loss=0.3716115653514862 Batch_id=390 train-acc=91.01: 100%|██████████| 391/391 [01:08<00:00,  5.74it/s]\n"
          ]
        },
        {
          "output_type": "stream",
          "name": "stdout",
          "text": [
            "Test-Loss: 0.002169146728515625 val-accuracy: (0.9106, 91.06)\n",
            "ConvMixer: Time: 71.2, lr: 0.001450\n"
          ]
        },
        {
          "output_type": "stream",
          "name": "stderr",
          "text": [
            "Loss=0.2372910976409912 Batch_id=390 train-acc=92.31: 100%|██████████| 391/391 [01:08<00:00,  5.73it/s]\n"
          ]
        },
        {
          "output_type": "stream",
          "name": "stdout",
          "text": [
            "Test-Loss: 0.00210303955078125 val-accuracy: (0.9155, 91.55)\n",
            "ConvMixer: Time: 71.8, lr: 0.000500\n"
          ]
        },
        {
          "output_type": "stream",
          "name": "stderr",
          "text": [
            "Loss=0.19016499817371368 Batch_id=390 train-acc=92.94: 100%|██████████| 391/391 [01:08<00:00,  5.72it/s]\n"
          ]
        },
        {
          "output_type": "stream",
          "name": "stdout",
          "text": [
            "Test-Loss: 0.002056024169921875 val-accuracy: (0.9173, 91.73)\n",
            "ConvMixer: Time: 71.4, lr: 0.000400\n"
          ]
        },
        {
          "output_type": "stream",
          "name": "stderr",
          "text": [
            "Loss=0.1579231172800064 Batch_id=390 train-acc=93.19: 100%|██████████| 391/391 [01:07<00:00,  5.82it/s]\n"
          ]
        },
        {
          "output_type": "stream",
          "name": "stdout",
          "text": [
            "Test-Loss: 0.00205999755859375 val-accuracy: (0.9165, 91.65)\n",
            "ConvMixer: Time: 71.2, lr: 0.000300\n"
          ]
        },
        {
          "output_type": "stream",
          "name": "stderr",
          "text": [
            "Loss=0.1432209014892578 Batch_id=390 train-acc=93.55: 100%|██████████| 391/391 [01:08<00:00,  5.73it/s]\n"
          ]
        },
        {
          "output_type": "stream",
          "name": "stdout",
          "text": [
            "Test-Loss: 0.002034747314453125 val-accuracy: (0.9177, 91.77)\n",
            "ConvMixer: Time: 71.2, lr: 0.000200\n"
          ]
        },
        {
          "output_type": "stream",
          "name": "stderr",
          "text": [
            "Loss=0.2985072731971741 Batch_id=390 train-acc=93.48: 100%|██████████| 391/391 [01:06<00:00,  5.90it/s]\n"
          ]
        },
        {
          "output_type": "stream",
          "name": "stdout",
          "text": [
            "Test-Loss: 0.002022528076171875 val-accuracy: (0.9193, 91.93)\n",
            "ConvMixer: Time: 69.2, lr: 0.000100\n"
          ]
        },
        {
          "output_type": "stream",
          "name": "stderr",
          "text": [
            "Loss=0.09510357677936554 Batch_id=390 train-acc=93.80: 100%|██████████| 391/391 [01:07<00:00,  5.79it/s]\n"
          ]
        },
        {
          "output_type": "stream",
          "name": "stdout",
          "text": [
            "Test-Loss: 0.0020044677734375 val-accuracy: (0.9191, 91.91)\n",
            "ConvMixer: Time: 71.1, lr: 0.000000\n"
          ]
        }
      ]
    },
    {
      "cell_type": "code",
      "source": [
        "print(\"Done!\")"
      ],
      "metadata": {
        "colab": {
          "base_uri": "https://localhost:8080/"
        },
        "id": "32NXznG3nVCP",
        "outputId": "9c3783a8-1ee8-4b8e-f920-f29409ac84e9"
      },
      "execution_count": null,
      "outputs": [
        {
          "output_type": "stream",
          "name": "stdout",
          "text": [
            "Done!\n"
          ]
        }
      ]
    }
  ]
}