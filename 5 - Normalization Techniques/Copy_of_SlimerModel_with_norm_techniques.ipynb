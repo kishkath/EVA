{
  "metadata": {
    "colab": {
      "provenance": []
    },
    "kernelspec": {
      "name": "python3",
      "display_name": "Python 3",
      "language": "python"
    },
    "language_info": {
      "name": "python",
      "version": "3.7.12",
      "mimetype": "text/x-python",
      "codemirror_mode": {
        "name": "ipython",
        "version": 3
      },
      "pygments_lexer": "ipython3",
      "nbconvert_exporter": "python",
      "file_extension": ".py"
    },
    "accelerator": "GPU",
    "gpuClass": "standard"
  },
  "nbformat_minor": 0,
  "nbformat": 4,
  "cells": [
    {
      "cell_type": "code",
      "source": [
        "from google.colab import drive\n",
        "drive.mount('/content/drive')"
      ],
      "metadata": {
        "id": "N_W9ChKm5qpq",
        "colab": {
          "base_uri": "https://localhost:8080/"
        },
        "outputId": "63e659fc-ae78-46d0-eec7-a76ea999da1e"
      },
      "execution_count": null,
      "outputs": [
        {
          "output_type": "stream",
          "name": "stdout",
          "text": [
            "Drive already mounted at /content/drive; to attempt to forcibly remount, call drive.mount(\"/content/drive\", force_remount=True).\n"
          ]
        }
      ]
    },
    {
      "cell_type": "markdown",
      "source": [
        "**The Notebook contains the code for Building Neural Network with the MNIST data**\n",
        "\n",
        "- **Target of Book**: As we have achieved a good accuracy of 99.4 consistently, and even though we had tried by adding few regularization techniques introducing normalization processes to the architecture, let us try to implement & introduce other normalization techniques LN (Layer Normalization), Group Normalization ( Group Normalization) and get the insights of usage and difference between the three.\n",
        "\n",
        "* **Description**: \n",
        "\n",
        "1. The network architecture is built up on involving special features.\n",
        "\n",
        "2. This network has been reduced to usage of lesser number of parameters (8,442) ~ 8 thousand parameter, which makes it a lighter model. \n",
        "\n",
        "3. The Architecture only has Convolutions, Relu activation function, Max Pooling, and returning result with softmax, which returns a list of probabilites of classes and will contain either of (BatchNormalization, Dropouts, Augmentations, GAP Layers).\n",
        "\n",
        "4. The **Receptive Field looks out a 36x36** at the end.\n",
        "\n",
        "5.  **EPOCHS**: Iterated the dataset for **20** times.\n",
        "6. BATCHSIZE : 128 \n",
        "\n",
        "7. Accuracies are mentioned in the \"Results\" section and \"analysis\" is made.\n",
        "\n",
        "8. As per my view & visualizations, the model's accuracy has been great compared to previous architecture it starts with underfitted accuracies and regain the good accuracy score.\n"
      ],
      "metadata": {
        "id": "6D88WN0a_v-t"
      }
    },
    {
      "cell_type": "markdown",
      "source": [
        "**A. Importing Libraries**"
      ],
      "metadata": {
        "id": "bM8IafaLEp1f"
      }
    },
    {
      "cell_type": "code",
      "source": [
        "from __future__ import print_function\n",
        "import torch \n",
        "import torch.nn as nn \n",
        "import torch.optim as optim \n",
        "import torch.nn.functional as F \n",
        "import matplotlib.pyplot as plt\n",
        "import torchvision\n",
        "from torchvision import datasets,transforms"
      ],
      "metadata": {
        "id": "i_YoCFyRACi3",
        "execution": {
          "iopub.status.busy": "2023-01-21T17:52:41.443950Z",
          "iopub.execute_input": "2023-01-21T17:52:41.444739Z",
          "iopub.status.idle": "2023-01-21T17:52:44.997149Z",
          "shell.execute_reply.started": "2023-01-21T17:52:41.444646Z",
          "shell.execute_reply": "2023-01-21T17:52:44.996112Z"
        },
        "trusted": true
      },
      "execution_count": null,
      "outputs": []
    },
    {
      "cell_type": "code",
      "source": [
        "from sample_data.model import Setup "
      ],
      "metadata": {
        "id": "ezlf5gCK8NQu"
      },
      "execution_count": null,
      "outputs": []
    },
    {
      "cell_type": "markdown",
      "source": [
        "**B. Dataloader/ Loading the data**\n",
        "\n",
        "\n"
      ],
      "metadata": {
        "id": "Q7wVbNFHFno8"
      }
    },
    {
      "cell_type": "code",
      "source": [
        "# Defining transformations such that our data can be transformed in such a way \n",
        "\n",
        "train_transforms = transforms.Compose([transforms.ToTensor(),transforms.Normalize((0.1307,),(0.3081,))])\n",
        "test_transforms = transforms.Compose([transforms.ToTensor(),transforms.Normalize((0.1307,), (0.3081,))])"
      ],
      "metadata": {
        "id": "uBILrrmPEv6E",
        "execution": {
          "iopub.status.busy": "2023-01-21T17:52:49.028969Z",
          "iopub.execute_input": "2023-01-21T17:52:49.029501Z",
          "iopub.status.idle": "2023-01-21T17:52:49.035016Z",
          "shell.execute_reply.started": "2023-01-21T17:52:49.029468Z",
          "shell.execute_reply": "2023-01-21T17:52:49.033890Z"
        },
        "trusted": true
      },
      "execution_count": null,
      "outputs": []
    },
    {
      "cell_type": "code",
      "source": [
        "train = datasets.MNIST(\"./data\",train=True,download=True,transform=train_transforms)\n",
        "test = datasets.MNIST(\"./data\",train=False,download=True,transform=test_transforms)"
      ],
      "metadata": {
        "id": "gnLASW_eE0iM",
        "execution": {
          "iopub.status.busy": "2023-01-21T17:52:49.474406Z",
          "iopub.execute_input": "2023-01-21T17:52:49.474863Z",
          "iopub.status.idle": "2023-01-21T17:52:51.408440Z",
          "shell.execute_reply.started": "2023-01-21T17:52:49.474821Z",
          "shell.execute_reply": "2023-01-21T17:52:51.407534Z"
        },
        "trusted": true
      },
      "execution_count": null,
      "outputs": []
    },
    {
      "cell_type": "markdown",
      "source": [
        "**C. Setting Configurations for processors & dataloading**"
      ],
      "metadata": {
        "id": "4_cB2YsYFrqJ"
      }
    },
    {
      "cell_type": "code",
      "source": [
        "SEED = 1 \n",
        "gpu = torch.cuda.is_available()\n",
        "print(\"Is cuda available: \",gpu)\n",
        "torch.manual_seed(SEED)\n",
        "\n",
        "if gpu:\n",
        "  torch.cuda.manual_seed(SEED)\n",
        "\n",
        "dataloader_args = dict(shuffle=True, batch_size=128, num_workers=4, pin_memory=True) if gpu else dict(shuffle=True, batch_size=64)\n",
        "\n",
        "# train dataloader\n",
        "train_loader = torch.utils.data.DataLoader(train, **dataloader_args)\n",
        "\n",
        "# test dataloader\n",
        "test_loader = torch.utils.data.DataLoader(test, **dataloader_args)"
      ],
      "metadata": {
        "id": "BT21DYspE2Pm",
        "execution": {
          "iopub.status.busy": "2023-01-21T17:52:58.321117Z",
          "iopub.execute_input": "2023-01-21T17:52:58.321798Z",
          "iopub.status.idle": "2023-01-21T17:52:58.453098Z",
          "shell.execute_reply.started": "2023-01-21T17:52:58.321762Z",
          "shell.execute_reply": "2023-01-21T17:52:58.452113Z"
        },
        "trusted": true,
        "colab": {
          "base_uri": "https://localhost:8080/"
        },
        "outputId": "067350d3-f468-43c6-8ebc-1a7f96977797"
      },
      "execution_count": null,
      "outputs": [
        {
          "output_type": "stream",
          "name": "stdout",
          "text": [
            "Is cuda available:  True\n"
          ]
        },
        {
          "output_type": "stream",
          "name": "stderr",
          "text": [
            "/usr/local/lib/python3.8/dist-packages/torch/utils/data/dataloader.py:554: UserWarning: This DataLoader will create 4 worker processes in total. Our suggested max number of worker in current system is 2, which is smaller than what this DataLoader is going to create. Please be aware that excessive worker creation might get DataLoader running slow or even freeze, lower the worker number to avoid potential slowness/freeze if necessary.\n",
            "  warnings.warn(_create_warning_msg(\n"
          ]
        }
      ]
    },
    {
      "cell_type": "markdown",
      "source": [
        "\n",
        "**D. Visualization & understanding of Images**"
      ],
      "metadata": {
        "id": "qzwY0uvwFwUx"
      }
    },
    {
      "cell_type": "code",
      "source": [
        "images,labels = next(iter(train_loader))\n",
        "print(images.shape,labels.shape)\n",
        "plt.imshow(images[10].numpy().squeeze())"
      ],
      "metadata": {
        "id": "EUiNzuOlE4TA",
        "execution": {
          "iopub.status.busy": "2023-01-21T17:53:22.531130Z",
          "iopub.execute_input": "2023-01-21T17:53:22.531528Z",
          "iopub.status.idle": "2023-01-21T17:53:27.253101Z",
          "shell.execute_reply.started": "2023-01-21T17:53:22.531499Z",
          "shell.execute_reply": "2023-01-21T17:53:27.252067Z"
        },
        "trusted": true,
        "colab": {
          "base_uri": "https://localhost:8080/",
          "height": 300
        },
        "outputId": "3f9a0261-8434-49bb-c434-c0e547c5370c"
      },
      "execution_count": null,
      "outputs": [
        {
          "output_type": "stream",
          "name": "stdout",
          "text": [
            "torch.Size([128, 1, 28, 28]) torch.Size([128])\n"
          ]
        },
        {
          "output_type": "execute_result",
          "data": {
            "text/plain": [
              "<matplotlib.image.AxesImage at 0x7f1625af37f0>"
            ]
          },
          "metadata": {},
          "execution_count": 8
        },
        {
          "output_type": "display_data",
          "data": {
            "text/plain": [
              "<Figure size 432x288 with 1 Axes>"
            ],
            "image/png": "[encoded data removed]"
          },
          "metadata": {
            "needs_background": "light"
          }
        }
      ]
    },
    {
      "cell_type": "code",
      "source": [
        "figure = plt.figure() \n",
        "for idx in range(1,30):\n",
        "  plt.subplot(6,5,idx)\n",
        "  plt.axis('off')\n",
        "  plt.imshow(images[idx].numpy().squeeze())"
      ],
      "metadata": {
        "id": "_dN6ocraE6Z1",
        "execution": {
          "iopub.status.busy": "2023-01-21T17:53:35.102997Z",
          "iopub.execute_input": "2023-01-21T17:53:35.103523Z",
          "iopub.status.idle": "2023-01-21T17:53:36.467865Z",
          "shell.execute_reply.started": "2023-01-21T17:53:35.103480Z",
          "shell.execute_reply": "2023-01-21T17:53:36.466776Z"
        },
        "trusted": true,
        "colab": {
          "base_uri": "https://localhost:8080/",
          "height": 248
        },
        "outputId": "f650c6d0-6098-43e6-8b93-c5b2c641e6b2"
      },
      "execution_count": null,
      "outputs": [
        {
          "output_type": "display_data",
          "data": {
            "text/plain": [
              "<Figure size 432x288 with 29 Axes>"
            ],
            "image/png": "[encoded data removed]"
          },
          "metadata": {
            "needs_background": "light"
          }
        }
      ]
    },
    {
      "cell_type": "markdown",
      "source": [
        "**E. Building Model Architecture**"
      ],
      "metadata": {
        "id": "7TDmilX-Fho5"
      }
    },
    {
      "cell_type": "code",
      "source": [
        "ts = torch.randn(1,28,28)\n",
        "ts = ts.reshape(-1,8)\n",
        "print(ts.shape)"
      ],
      "metadata": {
        "id": "sjUwXekK8LQ5",
        "colab": {
          "base_uri": "https://localhost:8080/"
        },
        "outputId": "586b071b-e54e-4290-db9a-bb248269ef4a"
      },
      "execution_count": null,
      "outputs": [
        {
          "output_type": "stream",
          "name": "stdout",
          "text": [
            "torch.Size([98, 8])\n"
          ]
        }
      ]
    },
    {
      "cell_type": "markdown",
      "source": [
        "**F.Understanding the summary of Architecture**"
      ],
      "metadata": {
        "id": "SR6SKPc-F3Ye"
      }
    },
    {
      "cell_type": "code",
      "source": [
        "# !pip install torchsummary\n",
        "# from sample_data.model import Setup\n",
        "from torchsummary import summary\n",
        "use_cuda = torch.cuda.is_available()\n",
        "device = torch.device(\"cuda\" if use_cuda else \"cpu\")\n",
        "print(device)\n",
        "model = Setup(\"BN\").to(device)\n",
        "summary(model, input_size=(1,28, 28))"
      ],
      "metadata": {
        "id": "BNeuoFSMFQ5L",
        "execution": {
          "iopub.status.busy": "2023-01-21T19:03:08.146256Z",
          "iopub.execute_input": "2023-01-21T19:03:08.146609Z",
          "iopub.status.idle": "2023-01-21T19:03:08.166885Z",
          "shell.execute_reply.started": "2023-01-21T19:03:08.146580Z",
          "shell.execute_reply": "2023-01-21T19:03:08.165724Z"
        },
        "trusted": true,
        "colab": {
          "base_uri": "https://localhost:8080/"
        },
        "outputId": "e85540ef-2bbf-4f64-86b9-b3c3bd27453d"
      },
      "execution_count": null,
      "outputs": [
        {
          "output_type": "stream",
          "name": "stdout",
          "text": [
            "cuda\n",
            "----------------------------------------------------------------\n",
            "        Layer (type)               Output Shape         Param #\n",
            "================================================================\n",
            "            Conv2d-1            [-1, 8, 28, 28]              80\n",
            "       BatchNorm2d-2            [-1, 8, 28, 28]              16\n",
            "              ReLU-3            [-1, 8, 28, 28]               0\n",
            "            Conv2d-4           [-1, 10, 26, 26]             730\n",
            "       BatchNorm2d-5           [-1, 10, 26, 26]              20\n",
            "              ReLU-6           [-1, 10, 26, 26]               0\n",
            "            Conv2d-7           [-1, 16, 24, 24]           1,456\n",
            "       BatchNorm2d-8           [-1, 16, 24, 24]              32\n",
            "              ReLU-9           [-1, 16, 24, 24]               0\n",
            "        MaxPool2d-10           [-1, 16, 12, 12]               0\n",
            "           Conv2d-11           [-1, 20, 10, 10]           2,900\n",
            "      BatchNorm2d-12           [-1, 20, 10, 10]              40\n",
            "             ReLU-13           [-1, 20, 10, 10]               0\n",
            "          Dropout-14           [-1, 20, 10, 10]               0\n",
            "           Conv2d-15           [-1, 10, 10, 10]             210\n",
            "      BatchNorm2d-16           [-1, 10, 10, 10]              20\n",
            "             ReLU-17           [-1, 10, 10, 10]               0\n",
            "        MaxPool2d-18             [-1, 10, 5, 5]               0\n",
            "           Conv2d-19             [-1, 16, 3, 3]           1,456\n",
            "      BatchNorm2d-20             [-1, 16, 3, 3]              32\n",
            "             ReLU-21             [-1, 16, 3, 3]               0\n",
            "           Conv2d-22             [-1, 10, 1, 1]           1,450\n",
            "================================================================\n",
            "Total params: 8,442\n",
            "Trainable params: 8,442\n",
            "Non-trainable params: 0\n",
            "----------------------------------------------------------------\n",
            "Input size (MB): 0.00\n",
            "Forward/backward pass size (MB): 0.62\n",
            "Params size (MB): 0.03\n",
            "Estimated Total Size (MB): 0.65\n",
            "----------------------------------------------------------------\n"
          ]
        }
      ]
    },
    {
      "cell_type": "markdown",
      "source": [
        "**G. Defining & deriving the training & its results as well as test/validation results**"
      ],
      "metadata": {
        "id": "ryaE7_U7F8DG"
      }
    },
    {
      "cell_type": "code",
      "source": [
        "from tqdm import tqdm\n",
        "\n",
        "train_losses = []\n",
        "test_losses = []\n",
        "train_acc = []\n",
        "test_acc = []\n",
        "\n",
        "def train(model, device, train_loader, optimizer, epoch):\n",
        "  model.train()\n",
        "  pbar = tqdm(train_loader)\n",
        "  correct = 0\n",
        "  processed = 0\n",
        "  \n",
        "  for batch_idx, (data, target) in enumerate(pbar):\n",
        "\n",
        "    data, target = data.to(device), target.to(device)\n",
        "  \n",
        "    # Init\n",
        "    optimizer.zero_grad()\n",
        "    # In PyTorch, we need to set the gradients to zero before starting to do backpropragation because PyTorch accumulates the gradients on subsequent backward passes. \n",
        "    # Because of this, when you start your training loop, ideally you should zero out the gradients so that you do the parameter update correctly.\n",
        "\n",
        "    # Predict\n",
        "    y_pred = model(data)\n",
        "\n",
        "    # Calculate loss\n",
        "    loss = F.nll_loss(y_pred, target)\n",
        "    train_losses.append(loss)\n",
        "\n",
        "    # Backpropagation\n",
        "    loss.backward()\n",
        "    optimizer.step()\n",
        "\n",
        "    # Update pbar-tqdm\n",
        "    \n",
        "    pred = y_pred.argmax(dim=1, keepdim=True)  # get the index of the max log-probability\n",
        "    correct += pred.eq(target.view_as(pred)).sum().item()\n",
        "    processed += len(data)\n",
        "\n",
        "    pbar.set_description(desc= f'Loss={loss.item()} Batch_id={batch_idx} train-Accuracy={100*correct/processed:0.2f}')\n",
        "    train_acc.append(100*correct/processed)\n",
        "    # return train_acc,train_losses\n",
        "\n",
        "def test(model, device, test_loader):\n",
        "    model.eval()\n",
        "    test_loss = 0\n",
        "    correct = 0\n",
        "    with torch.no_grad():\n",
        "        for data, target in test_loader:\n",
        "            data, target = data.to(device), target.to(device)\n",
        "            output = model(data)\n",
        "            test_loss += F.nll_loss(output, target, reduction='sum').item()  # sum up batch loss\n",
        "            pred = output.argmax(dim=1, keepdim=True)  # get the index of the max log-probability\n",
        "            correct += pred.eq(target.view_as(pred)).sum().item()\n",
        "\n",
        "    test_loss /= len(test_loader.dataset)\n",
        "    test_losses.append(test_loss)\n",
        "\n",
        "    print('\\nTest set: Average loss: {:.4f}, val-Accuracy: {}/{} ({:.2f}%)\\n'.format(\n",
        "        test_loss, correct, len(test_loader.dataset),\n",
        "        100. * correct / len(test_loader.dataset)))\n",
        "    \n",
        "    test_acc.append(100. * correct / len(test_loader.dataset))\n",
        "    # return test_acc,test_losses"
      ],
      "metadata": {
        "id": "f7ZEX6t6FUCQ",
        "execution": {
          "iopub.status.busy": "2023-01-21T19:03:12.528561Z",
          "iopub.execute_input": "2023-01-21T19:03:12.529621Z",
          "iopub.status.idle": "2023-01-21T19:03:12.861446Z",
          "shell.execute_reply.started": "2023-01-21T19:03:12.529583Z",
          "shell.execute_reply": "2023-01-21T19:03:12.860103Z"
        },
        "trusted": true
      },
      "execution_count": null,
      "outputs": []
    },
    {
      "cell_type": "code",
      "source": [
        "from sample_data.model import Setup"
      ],
      "metadata": {
        "id": "PwNm2DGO8l5R"
      },
      "execution_count": null,
      "outputs": []
    },
    {
      "cell_type": "markdown",
      "source": [
        "**Layer Normalization**"
      ],
      "metadata": {
        "id": "NkzWyvwT85Dd"
      }
    },
    {
      "cell_type": "code",
      "source": [
        "lst2 = []\n",
        "model =  Setup(\"LN\").to(device)\n",
        "optimizer = optim.SGD(model.parameters(), lr=0.01, momentum=0.9)\n",
        "EPOCHS = 20\n",
        "print(len(train_loader))\n",
        "for epoch in range(EPOCHS):\n",
        "    print(\"EPOCH:\", epoch)\n",
        "    train(model, device, train_loader, optimizer, epoch)\n",
        "    test(model, device, test_loader)"
      ],
      "metadata": {
        "id": "IUxwwl6xFV0Q",
        "execution": {
          "iopub.status.busy": "2023-01-21T19:03:12.935948Z",
          "iopub.execute_input": "2023-01-21T19:03:12.936292Z",
          "iopub.status.idle": "2023-01-21T19:10:05.174434Z",
          "shell.execute_reply.started": "2023-01-21T19:03:12.936263Z",
          "shell.execute_reply": "2023-01-21T19:10:05.173305Z"
        },
        "trusted": true,
        "colab": {
          "base_uri": "https://localhost:8080/"
        },
        "outputId": "0cd6e13c-3496-44b8-fb1b-9a8049c62d06"
      },
      "execution_count": null,
      "outputs": [
        {
          "output_type": "stream",
          "name": "stdout",
          "text": [
            "469\n",
            "EPOCH: 0\n"
          ]
        },
        {
          "output_type": "stream",
          "name": "stderr",
          "text": [
            "Loss=0.09822594374418259 Batch_id=468 train-Accuracy=91.22: 100%|██████████| 469/469 [00:16<00:00, 27.69it/s]\n"
          ]
        },
        {
          "output_type": "stream",
          "name": "stdout",
          "text": [
            "\n",
            "Test set: Average loss: 0.0896, val-Accuracy: 9731/10000 (97.31%)\n",
            "\n",
            "EPOCH: 1\n"
          ]
        },
        {
          "output_type": "stream",
          "name": "stderr",
          "text": [
            "Loss=0.0875488743185997 Batch_id=468 train-Accuracy=97.41: 100%|██████████| 469/469 [00:18<00:00, 25.00it/s]\n"
          ]
        },
        {
          "output_type": "stream",
          "name": "stdout",
          "text": [
            "\n",
            "Test set: Average loss: 0.0560, val-Accuracy: 9824/10000 (98.24%)\n",
            "\n",
            "EPOCH: 2\n"
          ]
        },
        {
          "output_type": "stream",
          "name": "stderr",
          "text": [
            "Loss=0.02572440356016159 Batch_id=468 train-Accuracy=97.94: 100%|██████████| 469/469 [00:17<00:00, 27.53it/s]\n"
          ]
        },
        {
          "output_type": "stream",
          "name": "stdout",
          "text": [
            "\n",
            "Test set: Average loss: 0.0463, val-Accuracy: 9857/10000 (98.57%)\n",
            "\n",
            "EPOCH: 3\n"
          ]
        },
        {
          "output_type": "stream",
          "name": "stderr",
          "text": [
            "Loss=0.05665427818894386 Batch_id=468 train-Accuracy=98.30: 100%|██████████| 469/469 [00:14<00:00, 33.16it/s]\n"
          ]
        },
        {
          "output_type": "stream",
          "name": "stdout",
          "text": [
            "\n",
            "Test set: Average loss: 0.0386, val-Accuracy: 9881/10000 (98.81%)\n",
            "\n",
            "EPOCH: 4\n"
          ]
        },
        {
          "output_type": "stream",
          "name": "stderr",
          "text": [
            "Loss=0.009627554565668106 Batch_id=468 train-Accuracy=98.43: 100%|██████████| 469/469 [00:15<00:00, 30.22it/s]\n"
          ]
        },
        {
          "output_type": "stream",
          "name": "stdout",
          "text": [
            "\n",
            "Test set: Average loss: 0.0392, val-Accuracy: 9872/10000 (98.72%)\n",
            "\n",
            "EPOCH: 5\n"
          ]
        },
        {
          "output_type": "stream",
          "name": "stderr",
          "text": [
            "Loss=0.06131136789917946 Batch_id=468 train-Accuracy=98.62: 100%|██████████| 469/469 [00:14<00:00, 31.72it/s]\n"
          ]
        },
        {
          "output_type": "stream",
          "name": "stdout",
          "text": [
            "\n",
            "Test set: Average loss: 0.0358, val-Accuracy: 9886/10000 (98.86%)\n",
            "\n",
            "EPOCH: 6\n"
          ]
        },
        {
          "output_type": "stream",
          "name": "stderr",
          "text": [
            "Loss=0.04101940244436264 Batch_id=468 train-Accuracy=98.69: 100%|██████████| 469/469 [00:17<00:00, 26.72it/s]\n"
          ]
        },
        {
          "output_type": "stream",
          "name": "stdout",
          "text": [
            "\n",
            "Test set: Average loss: 0.0355, val-Accuracy: 9893/10000 (98.93%)\n",
            "\n",
            "EPOCH: 7\n"
          ]
        },
        {
          "output_type": "stream",
          "name": "stderr",
          "text": [
            "Loss=0.051611438393592834 Batch_id=468 train-Accuracy=98.81: 100%|██████████| 469/469 [00:16<00:00, 29.14it/s]\n"
          ]
        },
        {
          "output_type": "stream",
          "name": "stdout",
          "text": [
            "\n",
            "Test set: Average loss: 0.0306, val-Accuracy: 9910/10000 (99.10%)\n",
            "\n",
            "EPOCH: 8\n"
          ]
        },
        {
          "output_type": "stream",
          "name": "stderr",
          "text": [
            "Loss=0.062473129481077194 Batch_id=468 train-Accuracy=98.89: 100%|██████████| 469/469 [00:14<00:00, 31.74it/s]\n"
          ]
        },
        {
          "output_type": "stream",
          "name": "stdout",
          "text": [
            "\n",
            "Test set: Average loss: 0.0304, val-Accuracy: 9911/10000 (99.11%)\n",
            "\n",
            "EPOCH: 9\n"
          ]
        },
        {
          "output_type": "stream",
          "name": "stderr",
          "text": [
            "Loss=0.02666345424950123 Batch_id=468 train-Accuracy=98.95: 100%|██████████| 469/469 [00:14<00:00, 32.30it/s]\n"
          ]
        },
        {
          "output_type": "stream",
          "name": "stdout",
          "text": [
            "\n",
            "Test set: Average loss: 0.0302, val-Accuracy: 9912/10000 (99.12%)\n",
            "\n",
            "EPOCH: 10\n"
          ]
        },
        {
          "output_type": "stream",
          "name": "stderr",
          "text": [
            "Loss=0.02186974324285984 Batch_id=468 train-Accuracy=99.02: 100%|██████████| 469/469 [00:16<00:00, 29.17it/s]\n"
          ]
        },
        {
          "output_type": "stream",
          "name": "stdout",
          "text": [
            "\n",
            "Test set: Average loss: 0.0270, val-Accuracy: 9921/10000 (99.21%)\n",
            "\n",
            "EPOCH: 11\n"
          ]
        },
        {
          "output_type": "stream",
          "name": "stderr",
          "text": [
            "Loss=0.005202614236623049 Batch_id=468 train-Accuracy=99.06: 100%|██████████| 469/469 [00:18<00:00, 24.97it/s]\n"
          ]
        },
        {
          "output_type": "stream",
          "name": "stdout",
          "text": [
            "\n",
            "Test set: Average loss: 0.0291, val-Accuracy: 9908/10000 (99.08%)\n",
            "\n",
            "EPOCH: 12\n"
          ]
        },
        {
          "output_type": "stream",
          "name": "stderr",
          "text": [
            "Loss=0.00377675355412066 Batch_id=468 train-Accuracy=99.05: 100%|██████████| 469/469 [00:17<00:00, 26.98it/s]\n"
          ]
        },
        {
          "output_type": "stream",
          "name": "stdout",
          "text": [
            "\n",
            "Test set: Average loss: 0.0338, val-Accuracy: 9895/10000 (98.95%)\n",
            "\n",
            "EPOCH: 13\n"
          ]
        },
        {
          "output_type": "stream",
          "name": "stderr",
          "text": [
            "Loss=0.010127878747880459 Batch_id=468 train-Accuracy=99.12: 100%|██████████| 469/469 [00:15<00:00, 29.85it/s]\n"
          ]
        },
        {
          "output_type": "stream",
          "name": "stdout",
          "text": [
            "\n",
            "Test set: Average loss: 0.0290, val-Accuracy: 9909/10000 (99.09%)\n",
            "\n",
            "EPOCH: 14\n"
          ]
        },
        {
          "output_type": "stream",
          "name": "stderr",
          "text": [
            "Loss=0.009456329047679901 Batch_id=468 train-Accuracy=99.14: 100%|██████████| 469/469 [00:17<00:00, 26.81it/s]\n"
          ]
        },
        {
          "output_type": "stream",
          "name": "stdout",
          "text": [
            "\n",
            "Test set: Average loss: 0.0300, val-Accuracy: 9908/10000 (99.08%)\n",
            "\n",
            "EPOCH: 15\n"
          ]
        },
        {
          "output_type": "stream",
          "name": "stderr",
          "text": [
            "Loss=0.04111354798078537 Batch_id=468 train-Accuracy=99.22: 100%|██████████| 469/469 [00:15<00:00, 30.79it/s]\n"
          ]
        },
        {
          "output_type": "stream",
          "name": "stdout",
          "text": [
            "\n",
            "Test set: Average loss: 0.0334, val-Accuracy: 9899/10000 (98.99%)\n",
            "\n",
            "EPOCH: 16\n"
          ]
        },
        {
          "output_type": "stream",
          "name": "stderr",
          "text": [
            "Loss=0.01878650300204754 Batch_id=468 train-Accuracy=99.26: 100%|██████████| 469/469 [00:15<00:00, 30.90it/s]\n"
          ]
        },
        {
          "output_type": "stream",
          "name": "stdout",
          "text": [
            "\n",
            "Test set: Average loss: 0.0256, val-Accuracy: 9919/10000 (99.19%)\n",
            "\n",
            "EPOCH: 17\n"
          ]
        },
        {
          "output_type": "stream",
          "name": "stderr",
          "text": [
            "Loss=0.020326392725110054 Batch_id=468 train-Accuracy=99.27: 100%|██████████| 469/469 [00:15<00:00, 30.66it/s]\n"
          ]
        },
        {
          "output_type": "stream",
          "name": "stdout",
          "text": [
            "\n",
            "Test set: Average loss: 0.0261, val-Accuracy: 9915/10000 (99.15%)\n",
            "\n",
            "EPOCH: 18\n"
          ]
        },
        {
          "output_type": "stream",
          "name": "stderr",
          "text": [
            "Loss=0.012539873830974102 Batch_id=468 train-Accuracy=99.26: 100%|██████████| 469/469 [00:16<00:00, 29.09it/s]\n"
          ]
        },
        {
          "output_type": "stream",
          "name": "stdout",
          "text": [
            "\n",
            "Test set: Average loss: 0.0277, val-Accuracy: 9921/10000 (99.21%)\n",
            "\n",
            "EPOCH: 19\n"
          ]
        },
        {
          "output_type": "stream",
          "name": "stderr",
          "text": [
            "Loss=0.0027256060857325792 Batch_id=468 train-Accuracy=99.29: 100%|██████████| 469/469 [00:14<00:00, 32.07it/s]\n"
          ]
        },
        {
          "output_type": "stream",
          "name": "stdout",
          "text": [
            "\n",
            "Test set: Average loss: 0.0258, val-Accuracy: 9913/10000 (99.13%)\n",
            "\n"
          ]
        }
      ]
    },
    {
      "cell_type": "code",
      "source": [
        "\n",
        "from tqdm import tqdm\n",
        "\n",
        "train1_losses = []\n",
        "test1_losses = []\n",
        "train1_acc = []\n",
        "test1_acc = []\n",
        "\n",
        "def train(model, device, train_loader, optimizer, epoch):\n",
        "  model.train()\n",
        "  pbar = tqdm(train_loader)\n",
        "  correct = 0\n",
        "  processed = 0\n",
        "  \n",
        "  for batch_idx, (data, target) in enumerate(pbar):\n",
        "\n",
        "    data, target = data.to(device), target.to(device)\n",
        "  \n",
        "    # Init\n",
        "    optimizer.zero_grad()\n",
        "    # In PyTorch, we need to set the gradients to zero before starting to do backpropragation because PyTorch accumulates the gradients on subsequent backward passes. \n",
        "    # Because of this, when you start your training loop, ideally you should zero out the gradients so that you do the parameter update correctly.\n",
        "\n",
        "    # Predict\n",
        "    y_pred = model(data)\n",
        "\n",
        "    # Calculate loss\n",
        "    loss = F.nll_loss(y_pred, target)\n",
        "    train1_losses.append(loss)\n",
        "\n",
        "    # Backpropagation\n",
        "    loss.backward()\n",
        "    optimizer.step()\n",
        "\n",
        "    # Update pbar-tqdm\n",
        "    \n",
        "    pred = y_pred.argmax(dim=1, keepdim=True)  # get the index of the max log-probability\n",
        "    correct += pred.eq(target.view_as(pred)).sum().item()\n",
        "    processed += len(data)\n",
        "\n",
        "    pbar.set_description(desc= f'Loss={loss.item()} Batch_id={batch_idx} train-Accuracy={100*correct/processed:0.2f}')\n",
        "    train1_acc.append(100*correct/processed)\n",
        "    # return train_acc,train_losses\n",
        "\n",
        "def test(model, device, test_loader):\n",
        "    model.eval()\n",
        "    test1_loss = 0\n",
        "    correct = 0\n",
        "    with torch.no_grad():\n",
        "        for data, target in test_loader:\n",
        "            data, target = data.to(device), target.to(device)\n",
        "            output = model(data)\n",
        "            test1_loss += F.nll_loss(output, target, reduction='sum').item()  # sum up batch loss\n",
        "            pred = output.argmax(dim=1, keepdim=True)  # get the index of the max log-probability\n",
        "            correct += pred.eq(target.view_as(pred)).sum().item()\n",
        "\n",
        "    test1_loss /= len(test_loader.dataset)\n",
        "    test1_losses.append(test1_loss)\n",
        "\n",
        "    print('\\nTest set: Average loss: {:.4f}, val-Accuracy: {}/{} ({:.2f}%)\\n'.format(\n",
        "        test1_loss, correct, len(test_loader.dataset),\n",
        "        100. * correct / len(test_loader.dataset)))\n",
        "    \n",
        "    test1_acc.append(100. * correct / len(test_loader.dataset))\n",
        "    # return test_acc,test_losses\n",
        "\n",
        "lst2 = []\n",
        "model =  Setup(\"GN\").to(device)\n",
        "optimizer = optim.SGD(model.parameters(), lr=0.01, momentum=0.9)\n",
        "EPOCHS = 20\n",
        "print(len(train_loader))\n",
        "for epoch in range(EPOCHS):\n",
        "    print(\"EPOCH:\", epoch)\n",
        "    train(model, device, train_loader, optimizer, epoch)\n",
        "    test(model, device, test_loader)"
      ],
      "metadata": {
        "colab": {
          "base_uri": "https://localhost:8080/"
        },
        "id": "1qec9_VC9iYR",
        "outputId": "d79b3765-905e-441c-dd87-9721e5013d3c"
      },
      "execution_count": null,
      "outputs": [
        {
          "metadata": {
            "tags": null
          },
          "name": "stdout",
          "output_type": "stream",
          "text": [
            "469\n",
            "EPOCH: 0\n"
          ]
        },
        {
          "metadata": {
            "tags": null
          },
          "name": "stderr",
          "output_type": "stream",
          "text": [
            "Loss=0.07039842754602432 Batch_id=468 train-Accuracy=90.65: 100%|██████████| 469/469 [00:14<00:00, 31.63it/s]\n"
          ]
        },
        {
          "metadata": {
            "tags": null
          },
          "name": "stdout",
          "output_type": "stream",
          "text": [
            "\n",
            "Test set: Average loss: 0.0839, val-Accuracy: 9754/10000 (97.54%)\n",
            "\n",
            "EPOCH: 1\n"
          ]
        },
        {
          "metadata": {
            "tags": null
          },
          "name": "stderr",
          "output_type": "stream",
          "text": [
            "Loss=0.051118601113557816 Batch_id=468 train-Accuracy=97.48: 100%|██████████| 469/469 [00:14<00:00, 31.71it/s]\n"
          ]
        },
        {
          "metadata": {
            "tags": null
          },
          "name": "stdout",
          "output_type": "stream",
          "text": [
            "\n",
            "Test set: Average loss: 0.0521, val-Accuracy: 9833/10000 (98.33%)\n",
            "\n",
            "EPOCH: 2\n"
          ]
        },
        {
          "metadata": {
            "tags": null
          },
          "name": "stderr",
          "output_type": "stream",
          "text": [
            "Loss=0.04211515188217163 Batch_id=468 train-Accuracy=98.20: 100%|██████████| 469/469 [00:16<00:00, 29.19it/s]\n"
          ]
        },
        {
          "metadata": {
            "tags": null
          },
          "name": "stdout",
          "output_type": "stream",
          "text": [
            "\n",
            "Test set: Average loss: 0.0601, val-Accuracy: 9805/10000 (98.05%)\n",
            "\n",
            "EPOCH: 3\n"
          ]
        },
        {
          "metadata": {
            "tags": null
          },
          "name": "stderr",
          "output_type": "stream",
          "text": [
            "Loss=0.08669980615377426 Batch_id=468 train-Accuracy=98.39: 100%|██████████| 469/469 [00:19<00:00, 23.94it/s]\n"
          ]
        },
        {
          "metadata": {
            "tags": null
          },
          "name": "stdout",
          "output_type": "stream",
          "text": [
            "\n",
            "Test set: Average loss: 0.0435, val-Accuracy: 9869/10000 (98.69%)\n",
            "\n",
            "EPOCH: 4\n"
          ]
        },
        {
          "metadata": {
            "tags": null
          },
          "name": "stderr",
          "output_type": "stream",
          "text": [
            "Loss=0.05475062504410744 Batch_id=468 train-Accuracy=98.62: 100%|██████████| 469/469 [00:19<00:00, 24.39it/s]\n"
          ]
        },
        {
          "metadata": {
            "tags": null
          },
          "name": "stdout",
          "output_type": "stream",
          "text": [
            "\n",
            "Test set: Average loss: 0.0398, val-Accuracy: 9872/10000 (98.72%)\n",
            "\n",
            "EPOCH: 5\n"
          ]
        },
        {
          "metadata": {
            "tags": null
          },
          "name": "stderr",
          "output_type": "stream",
          "text": [
            "Loss=0.02523859404027462 Batch_id=468 train-Accuracy=98.72: 100%|██████████| 469/469 [00:17<00:00, 27.25it/s]\n"
          ]
        },
        {
          "metadata": {
            "tags": null
          },
          "name": "stdout",
          "output_type": "stream",
          "text": [
            "\n",
            "Test set: Average loss: 0.0398, val-Accuracy: 9875/10000 (98.75%)\n",
            "\n",
            "EPOCH: 6\n"
          ]
        },
        {
          "metadata": {
            "tags": null
          },
          "name": "stderr",
          "output_type": "stream",
          "text": [
            "Loss=0.027034083381295204 Batch_id=468 train-Accuracy=98.82: 100%|██████████| 469/469 [00:17<00:00, 27.56it/s]\n"
          ]
        },
        {
          "metadata": {
            "tags": null
          },
          "name": "stdout",
          "output_type": "stream",
          "text": [
            "\n",
            "Test set: Average loss: 0.0380, val-Accuracy: 9883/10000 (98.83%)\n",
            "\n",
            "EPOCH: 7\n"
          ]
        },
        {
          "metadata": {
            "tags": null
          },
          "name": "stderr",
          "output_type": "stream",
          "text": [
            "Loss=0.057978566735982895 Batch_id=468 train-Accuracy=98.89: 100%|██████████| 469/469 [00:16<00:00, 28.32it/s]\n"
          ]
        },
        {
          "metadata": {
            "tags": null
          },
          "name": "stdout",
          "output_type": "stream",
          "text": [
            "\n",
            "Test set: Average loss: 0.0318, val-Accuracy: 9904/10000 (99.04%)\n",
            "\n",
            "EPOCH: 8\n"
          ]
        },
        {
          "metadata": {
            "tags": null
          },
          "name": "stderr",
          "output_type": "stream",
          "text": [
            "Loss=0.05781368538737297 Batch_id=468 train-Accuracy=98.95: 100%|██████████| 469/469 [00:16<00:00, 28.29it/s]\n"
          ]
        },
        {
          "metadata": {
            "tags": null
          },
          "name": "stdout",
          "output_type": "stream",
          "text": [
            "\n",
            "Test set: Average loss: 0.0306, val-Accuracy: 9904/10000 (99.04%)\n",
            "\n",
            "EPOCH: 9\n"
          ]
        },
        {
          "metadata": {
            "tags": null
          },
          "name": "stderr",
          "output_type": "stream",
          "text": [
            "Loss=0.03729275241494179 Batch_id=468 train-Accuracy=99.05: 100%|██████████| 469/469 [00:14<00:00, 31.97it/s]\n"
          ]
        },
        {
          "metadata": {
            "tags": null
          },
          "name": "stdout",
          "output_type": "stream",
          "text": [
            "\n",
            "Test set: Average loss: 0.0308, val-Accuracy: 9896/10000 (98.96%)\n",
            "\n",
            "EPOCH: 10\n"
          ]
        },
        {
          "metadata": {
            "tags": null
          },
          "name": "stderr",
          "output_type": "stream",
          "text": [
            "Loss=0.09872130304574966 Batch_id=468 train-Accuracy=99.03: 100%|██████████| 469/469 [00:15<00:00, 30.74it/s]\n"
          ]
        },
        {
          "metadata": {
            "tags": null
          },
          "name": "stdout",
          "output_type": "stream",
          "text": [
            "\n",
            "Test set: Average loss: 0.0330, val-Accuracy: 9891/10000 (98.91%)\n",
            "\n",
            "EPOCH: 11\n"
          ]
        },
        {
          "metadata": {
            "tags": null
          },
          "name": "stderr",
          "output_type": "stream",
          "text": [
            "Loss=0.030459381639957428 Batch_id=468 train-Accuracy=99.11: 100%|██████████| 469/469 [00:14<00:00, 31.95it/s]\n"
          ]
        },
        {
          "metadata": {
            "tags": null
          },
          "name": "stdout",
          "output_type": "stream",
          "text": [
            "\n",
            "Test set: Average loss: 0.0308, val-Accuracy: 9898/10000 (98.98%)\n",
            "\n",
            "EPOCH: 12\n"
          ]
        },
        {
          "metadata": {
            "tags": null
          },
          "name": "stderr",
          "output_type": "stream",
          "text": [
            "Loss=0.006369519513100386 Batch_id=468 train-Accuracy=99.10: 100%|██████████| 469/469 [00:14<00:00, 31.40it/s]\n"
          ]
        },
        {
          "metadata": {
            "tags": null
          },
          "name": "stdout",
          "output_type": "stream",
          "text": [
            "\n",
            "Test set: Average loss: 0.0286, val-Accuracy: 9913/10000 (99.13%)\n",
            "\n",
            "EPOCH: 13\n"
          ]
        },
        {
          "metadata": {
            "tags": null
          },
          "name": "stderr",
          "output_type": "stream",
          "text": [
            "Loss=0.02930898219347 Batch_id=468 train-Accuracy=99.25: 100%|██████████| 469/469 [00:15<00:00, 31.17it/s]\n"
          ]
        },
        {
          "metadata": {
            "tags": null
          },
          "name": "stdout",
          "output_type": "stream",
          "text": [
            "\n",
            "Test set: Average loss: 0.0327, val-Accuracy: 9892/10000 (98.92%)\n",
            "\n",
            "EPOCH: 14\n"
          ]
        },
        {
          "metadata": {
            "tags": null
          },
          "name": "stderr",
          "output_type": "stream",
          "text": [
            "Loss=0.02376864105463028 Batch_id=468 train-Accuracy=99.26: 100%|██████████| 469/469 [00:14<00:00, 31.96it/s]\n"
          ]
        },
        {
          "metadata": {
            "tags": null
          },
          "name": "stdout",
          "output_type": "stream",
          "text": [
            "\n",
            "Test set: Average loss: 0.0283, val-Accuracy: 9916/10000 (99.16%)\n",
            "\n",
            "EPOCH: 15\n"
          ]
        },
        {
          "metadata": {
            "tags": null
          },
          "name": "stderr",
          "output_type": "stream",
          "text": [
            "Loss=0.0067425980232656 Batch_id=468 train-Accuracy=99.30: 100%|██████████| 469/469 [00:14<00:00, 31.74it/s]\n"
          ]
        },
        {
          "metadata": {
            "tags": null
          },
          "name": "stdout",
          "output_type": "stream",
          "text": [
            "\n",
            "Test set: Average loss: 0.0285, val-Accuracy: 9910/10000 (99.10%)\n",
            "\n",
            "EPOCH: 16\n"
          ]
        },
        {
          "output_type": "stream",
          "name": "stderr",
          "text": [
            "Loss=0.012703611515462399 Batch_id=468 train-Accuracy=99.30: 100%|██████████| 469/469 [00:15<00:00, 30.93it/s]\n"
          ]
        },
        {
          "output_type": "stream",
          "name": "stdout",
          "text": [
            "\n",
            "Test set: Average loss: 0.0251, val-Accuracy: 9923/10000 (99.23%)\n",
            "\n",
            "EPOCH: 17\n"
          ]
        },
        {
          "output_type": "stream",
          "name": "stderr",
          "text": [
            "Loss=0.005132834427058697 Batch_id=468 train-Accuracy=99.36: 100%|██████████| 469/469 [00:15<00:00, 30.49it/s]\n"
          ]
        },
        {
          "output_type": "stream",
          "name": "stdout",
          "text": [
            "\n",
            "Test set: Average loss: 0.0252, val-Accuracy: 9928/10000 (99.28%)\n",
            "\n",
            "EPOCH: 18\n"
          ]
        },
        {
          "output_type": "stream",
          "name": "stderr",
          "text": [
            "Loss=0.001174401375465095 Batch_id=468 train-Accuracy=99.36: 100%|██████████| 469/469 [00:15<00:00, 31.03it/s]\n"
          ]
        },
        {
          "output_type": "stream",
          "name": "stdout",
          "text": [
            "\n",
            "Test set: Average loss: 0.0302, val-Accuracy: 9901/10000 (99.01%)\n",
            "\n",
            "EPOCH: 19\n"
          ]
        },
        {
          "output_type": "stream",
          "name": "stderr",
          "text": [
            "Loss=0.002263591857627034 Batch_id=468 train-Accuracy=99.36: 100%|██████████| 469/469 [00:15<00:00, 30.78it/s]\n"
          ]
        },
        {
          "output_type": "stream",
          "name": "stdout",
          "text": [
            "\n",
            "Test set: Average loss: 0.0276, val-Accuracy: 9915/10000 (99.15%)\n",
            "\n"
          ]
        }
      ]
    },
    {
      "cell_type": "code",
      "source": [
        "\n",
        "\n",
        "train2_losses = []\n",
        "test2_losses = []\n",
        "train2_acc = []\n",
        "test2_acc = []\n",
        "\n",
        "def train(model, device, train_loader, optimizer, epoch):\n",
        "  model.train()\n",
        "  pbar = tqdm(train_loader)\n",
        "  correct = 0\n",
        "  processed = 0\n",
        "  \n",
        "  for batch_idx, (data, target) in enumerate(pbar):\n",
        "\n",
        "    data, target = data.to(device), target.to(device)\n",
        "  \n",
        "    # Init\n",
        "    optimizer.zero_grad()\n",
        "    # In PyTorch, we need to set the gradients to zero before starting to do backpropragation because PyTorch accumulates the gradients on subsequent backward passes. \n",
        "    # Because of this, when you start your training loop, ideally you should zero out the gradients so that you do the parameter update correctly.\n",
        "\n",
        "    # Predict\n",
        "    y_pred = model(data)\n",
        "\n",
        "    # Calculate loss\n",
        "    loss = F.nll_loss(y_pred, target)\n",
        "    l1_lambda = 0.001\n",
        "    l1_norm = sum(p.abs().sum() for p in model.parameters())\n",
        " \n",
        "    loss = loss + l1_lambda * l1_norm\n",
        "    train2_losses.append(loss)\n",
        "\n",
        "    # Backpropagation\n",
        "    loss.backward()\n",
        "    optimizer.step()\n",
        "\n",
        "    # Update pbar-tqdm\n",
        "    \n",
        "    pred = y_pred.argmax(dim=1, keepdim=True)  # get the index of the max log-probability\n",
        "    correct += pred.eq(target.view_as(pred)).sum().item()\n",
        "    processed += len(data)\n",
        "\n",
        "    pbar.set_description(desc= f'Loss={loss.item()} Batch_id={batch_idx} train-Accuracy={100*correct/processed:0.2f}')\n",
        "    train2_acc.append(100*correct/processed)\n",
        "    # return train_acc,train_losses\n",
        "\n",
        "def test(model, device, test_loader):\n",
        "    model.eval()\n",
        "    test2_loss = 0\n",
        "    correct = 0\n",
        "    with torch.no_grad():\n",
        "        for data, target in test_loader:\n",
        "            data, target = data.to(device), target.to(device)\n",
        "            output = model(data)\n",
        "            test2_loss += F.nll_loss(output, target, reduction='sum').item()  # sum up batch loss\n",
        "            pred = output.argmax(dim=1, keepdim=True)  # get the index of the max log-probability\n",
        "            correct += pred.eq(target.view_as(pred)).sum().item()\n",
        "\n",
        "    test2_loss /= len(test_loader.dataset)\n",
        "    test2_losses.append(test2_loss)\n",
        "\n",
        "    print('\\nTest set: Average loss: {:.4f}, val-Accuracy: {}/{} ({:.2f}%)\\n'.format(\n",
        "        test2_loss, correct, len(test_loader.dataset),\n",
        "        100. * correct / len(test_loader.dataset)))\n",
        "    \n",
        "    test2_acc.append(100. * correct / len(test_loader.dataset))\n",
        "    # return test_acc,test_losses\n",
        "\n",
        "lst2 = []\n",
        "model =  Setup(\"BN\").to(device)\n",
        "optimizer = optim.SGD(model.parameters(), lr=0.01, momentum=0.9)\n",
        "EPOCHS = 20\n",
        "print(len(train_loader))\n",
        "for epoch in range(EPOCHS):\n",
        "    print(\"EPOCH:\", epoch)\n",
        "    train(model, device, train_loader, optimizer, epoch)\n",
        "    test(model, device, test_loader)"
      ],
      "metadata": {
        "colab": {
          "base_uri": "https://localhost:8080/"
        },
        "id": "srRyciic-Zlo",
        "outputId": "99d9c011-9267-4cf2-c948-291dce654565"
      },
      "execution_count": null,
      "outputs": [
        {
          "metadata": {
            "tags": null
          },
          "name": "stdout",
          "output_type": "stream",
          "text": [
            "469\n",
            "EPOCH: 0\n"
          ]
        },
        {
          "metadata": {
            "tags": null
          },
          "name": "stderr",
          "output_type": "stream",
          "text": [
            "  0%|          | 0/469 [00:00<?, ?it/s]/usr/local/lib/python3.8/dist-packages/torch/utils/data/dataloader.py:554: UserWarning: This DataLoader will create 4 worker processes in total. Our suggested max number of worker in current system is 2, which is smaller than what this DataLoader is going to create. Please be aware that excessive worker creation might get DataLoader running slow or even freeze, lower the worker number to avoid potential slowness/freeze if necessary.\n",
            "  warnings.warn(_create_warning_msg(\n",
            "Loss=0.42674723267555237 Batch_id=468 train-Accuracy=94.21: 100%|██████████| 469/469 [00:16<00:00, 28.75it/s]\n"
          ]
        },
        {
          "metadata": {
            "tags": null
          },
          "name": "stdout",
          "output_type": "stream",
          "text": [
            "\n",
            "Test set: Average loss: 0.1126, val-Accuracy: 9737/10000 (97.37%)\n",
            "\n",
            "EPOCH: 1\n"
          ]
        },
        {
          "metadata": {
            "tags": null
          },
          "name": "stderr",
          "output_type": "stream",
          "text": [
            "Loss=0.30009257793426514 Batch_id=468 train-Accuracy=97.88: 100%|██████████| 469/469 [00:15<00:00, 29.44it/s]\n"
          ]
        },
        {
          "metadata": {
            "tags": null
          },
          "name": "stdout",
          "output_type": "stream",
          "text": [
            "\n",
            "Test set: Average loss: 0.0651, val-Accuracy: 9822/10000 (98.22%)\n",
            "\n",
            "EPOCH: 2\n"
          ]
        },
        {
          "metadata": {
            "tags": null
          },
          "name": "stderr",
          "output_type": "stream",
          "text": [
            "Loss=0.3489333987236023 Batch_id=468 train-Accuracy=97.96: 100%|██████████| 469/469 [00:15<00:00, 29.84it/s]\n"
          ]
        },
        {
          "metadata": {
            "tags": null
          },
          "name": "stdout",
          "output_type": "stream",
          "text": [
            "\n",
            "Test set: Average loss: 0.1038, val-Accuracy: 9702/10000 (97.02%)\n",
            "\n",
            "EPOCH: 3\n"
          ]
        },
        {
          "metadata": {
            "tags": null
          },
          "name": "stderr",
          "output_type": "stream",
          "text": [
            "Loss=0.2757153809070587 Batch_id=468 train-Accuracy=97.99: 100%|██████████| 469/469 [00:16<00:00, 28.59it/s]\n"
          ]
        },
        {
          "metadata": {
            "tags": null
          },
          "name": "stdout",
          "output_type": "stream",
          "text": [
            "\n",
            "Test set: Average loss: 0.0717, val-Accuracy: 9817/10000 (98.17%)\n",
            "\n",
            "EPOCH: 4\n"
          ]
        },
        {
          "metadata": {
            "tags": null
          },
          "name": "stderr",
          "output_type": "stream",
          "text": [
            "Loss=0.24745072424411774 Batch_id=468 train-Accuracy=98.03: 100%|██████████| 469/469 [00:16<00:00, 29.15it/s]\n"
          ]
        },
        {
          "metadata": {
            "tags": null
          },
          "name": "stdout",
          "output_type": "stream",
          "text": [
            "\n",
            "Test set: Average loss: 0.0898, val-Accuracy: 9729/10000 (97.29%)\n",
            "\n",
            "EPOCH: 5\n"
          ]
        },
        {
          "metadata": {
            "tags": null
          },
          "name": "stderr",
          "output_type": "stream",
          "text": [
            "Loss=0.2999730706214905 Batch_id=468 train-Accuracy=98.22: 100%|██████████| 469/469 [00:16<00:00, 28.39it/s]\n"
          ]
        },
        {
          "metadata": {
            "tags": null
          },
          "name": "stdout",
          "output_type": "stream",
          "text": [
            "\n",
            "Test set: Average loss: 0.0675, val-Accuracy: 9810/10000 (98.10%)\n",
            "\n",
            "EPOCH: 6\n"
          ]
        },
        {
          "metadata": {
            "tags": null
          },
          "name": "stderr",
          "output_type": "stream",
          "text": [
            "Loss=0.23564352095127106 Batch_id=468 train-Accuracy=98.14: 100%|██████████| 469/469 [00:16<00:00, 27.73it/s]\n"
          ]
        },
        {
          "metadata": {
            "tags": null
          },
          "name": "stdout",
          "output_type": "stream",
          "text": [
            "\n",
            "Test set: Average loss: 0.0548, val-Accuracy: 9859/10000 (98.59%)\n",
            "\n",
            "EPOCH: 7\n"
          ]
        },
        {
          "metadata": {
            "tags": null
          },
          "name": "stderr",
          "output_type": "stream",
          "text": [
            "Loss=0.24792681634426117 Batch_id=468 train-Accuracy=98.14: 100%|██████████| 469/469 [00:16<00:00, 29.26it/s]\n"
          ]
        },
        {
          "metadata": {
            "tags": null
          },
          "name": "stdout",
          "output_type": "stream",
          "text": [
            "\n",
            "Test set: Average loss: 0.0767, val-Accuracy: 9780/10000 (97.80%)\n",
            "\n",
            "EPOCH: 8\n"
          ]
        },
        {
          "metadata": {
            "tags": null
          },
          "name": "stderr",
          "output_type": "stream",
          "text": [
            "Loss=0.22399574518203735 Batch_id=468 train-Accuracy=98.14: 100%|██████████| 469/469 [00:16<00:00, 28.96it/s]\n"
          ]
        },
        {
          "metadata": {
            "tags": null
          },
          "name": "stdout",
          "output_type": "stream",
          "text": [
            "\n",
            "Test set: Average loss: 0.0851, val-Accuracy: 9758/10000 (97.58%)\n",
            "\n",
            "EPOCH: 9\n"
          ]
        },
        {
          "metadata": {
            "tags": null
          },
          "name": "stderr",
          "output_type": "stream",
          "text": [
            "Loss=0.2644430100917816 Batch_id=468 train-Accuracy=98.18: 100%|██████████| 469/469 [00:16<00:00, 28.98it/s]\n"
          ]
        },
        {
          "metadata": {
            "tags": null
          },
          "name": "stdout",
          "output_type": "stream",
          "text": [
            "\n",
            "Test set: Average loss: 0.0953, val-Accuracy: 9740/10000 (97.40%)\n",
            "\n",
            "EPOCH: 10\n"
          ]
        },
        {
          "metadata": {
            "tags": null
          },
          "name": "stderr",
          "output_type": "stream",
          "text": [
            "Loss=0.27245962619781494 Batch_id=468 train-Accuracy=98.20: 100%|██████████| 469/469 [00:16<00:00, 29.03it/s]\n"
          ]
        },
        {
          "metadata": {
            "tags": null
          },
          "name": "stdout",
          "output_type": "stream",
          "text": [
            "\n",
            "Test set: Average loss: 0.0650, val-Accuracy: 9829/10000 (98.29%)\n",
            "\n",
            "EPOCH: 11\n"
          ]
        },
        {
          "metadata": {
            "tags": null
          },
          "name": "stderr",
          "output_type": "stream",
          "text": [
            "Loss=0.2523805797100067 Batch_id=468 train-Accuracy=98.17: 100%|██████████| 469/469 [00:17<00:00, 26.58it/s]\n"
          ]
        },
        {
          "metadata": {
            "tags": null
          },
          "name": "stdout",
          "output_type": "stream",
          "text": [
            "\n",
            "Test set: Average loss: 0.0700, val-Accuracy: 9826/10000 (98.26%)\n",
            "\n",
            "EPOCH: 12\n"
          ]
        },
        {
          "output_type": "stream",
          "name": "stderr",
          "text": [
            "Loss=0.20465929806232452 Batch_id=468 train-Accuracy=98.24: 100%|██████████| 469/469 [00:16<00:00, 29.14it/s]\n"
          ]
        },
        {
          "output_type": "stream",
          "name": "stdout",
          "text": [
            "\n",
            "Test set: Average loss: 0.0687, val-Accuracy: 9770/10000 (97.70%)\n",
            "\n",
            "EPOCH: 13\n"
          ]
        },
        {
          "output_type": "stream",
          "name": "stderr",
          "text": [
            "Loss=0.1886860430240631 Batch_id=468 train-Accuracy=98.30: 100%|██████████| 469/469 [00:16<00:00, 28.76it/s]\n"
          ]
        },
        {
          "output_type": "stream",
          "name": "stdout",
          "text": [
            "\n",
            "Test set: Average loss: 0.0665, val-Accuracy: 9808/10000 (98.08%)\n",
            "\n",
            "EPOCH: 14\n"
          ]
        },
        {
          "output_type": "stream",
          "name": "stderr",
          "text": [
            "Loss=0.19906318187713623 Batch_id=468 train-Accuracy=98.28: 100%|██████████| 469/469 [00:16<00:00, 28.51it/s]\n"
          ]
        },
        {
          "output_type": "stream",
          "name": "stdout",
          "text": [
            "\n",
            "Test set: Average loss: 0.0723, val-Accuracy: 9790/10000 (97.90%)\n",
            "\n",
            "EPOCH: 15\n"
          ]
        },
        {
          "output_type": "stream",
          "name": "stderr",
          "text": [
            "Loss=0.19008569419384003 Batch_id=468 train-Accuracy=98.22: 100%|██████████| 469/469 [00:16<00:00, 28.37it/s]\n"
          ]
        },
        {
          "output_type": "stream",
          "name": "stdout",
          "text": [
            "\n",
            "Test set: Average loss: 0.0490, val-Accuracy: 9861/10000 (98.61%)\n",
            "\n",
            "EPOCH: 16\n"
          ]
        },
        {
          "output_type": "stream",
          "name": "stderr",
          "text": [
            "Loss=0.203877791762352 Batch_id=468 train-Accuracy=98.31: 100%|██████████| 469/469 [00:16<00:00, 28.24it/s]\n"
          ]
        },
        {
          "output_type": "stream",
          "name": "stdout",
          "text": [
            "\n",
            "Test set: Average loss: 0.0719, val-Accuracy: 9791/10000 (97.91%)\n",
            "\n",
            "EPOCH: 17\n"
          ]
        },
        {
          "output_type": "stream",
          "name": "stderr",
          "text": [
            "Loss=0.17973382771015167 Batch_id=468 train-Accuracy=98.30: 100%|██████████| 469/469 [00:16<00:00, 28.15it/s]\n"
          ]
        },
        {
          "output_type": "stream",
          "name": "stdout",
          "text": [
            "\n",
            "Test set: Average loss: 0.0650, val-Accuracy: 9822/10000 (98.22%)\n",
            "\n",
            "EPOCH: 18\n"
          ]
        },
        {
          "output_type": "stream",
          "name": "stderr",
          "text": [
            "Loss=0.23444411158561707 Batch_id=468 train-Accuracy=98.21: 100%|██████████| 469/469 [00:16<00:00, 28.80it/s]\n"
          ]
        },
        {
          "output_type": "stream",
          "name": "stdout",
          "text": [
            "\n",
            "Test set: Average loss: 0.0532, val-Accuracy: 9850/10000 (98.50%)\n",
            "\n",
            "EPOCH: 19\n"
          ]
        },
        {
          "output_type": "stream",
          "name": "stderr",
          "text": [
            "Loss=0.1875326782464981 Batch_id=468 train-Accuracy=98.27: 100%|██████████| 469/469 [00:16<00:00, 28.97it/s]\n"
          ]
        },
        {
          "output_type": "stream",
          "name": "stdout",
          "text": [
            "\n",
            "Test set: Average loss: 0.0835, val-Accuracy: 9764/10000 (97.64%)\n",
            "\n"
          ]
        }
      ]
    },
    {
      "cell_type": "code",
      "source": [
        "fig, axs = plt.subplots(2,2,figsize=(15,10))\n",
        "axs[0, 0].plot([t.cpu().item() for t in train_losses])\n",
        "axs[0, 0].set_title(\"Training Loss\")\n",
        "axs[1, 0].plot(train_acc)\n",
        "axs[1, 0].set_title(\"Training Accuracy\")\n",
        "axs[0, 1].plot(test_losses)\n",
        "axs[0, 1].set_title(\"Test Loss\")\n",
        "axs[1, 1].plot(test_acc)\n",
        "axs[1, 1].set_title(\"Test Accuracy\")"
      ],
      "metadata": {
        "id": "X7Y8tb5sFZZI",
        "execution": {
          "iopub.status.busy": "2023-01-21T19:11:56.177824Z",
          "iopub.execute_input": "2023-01-21T19:11:56.178239Z",
          "iopub.status.idle": "2023-01-21T19:11:56.978596Z",
          "shell.execute_reply.started": "2023-01-21T19:11:56.178204Z",
          "shell.execute_reply": "2023-01-21T19:11:56.977400Z"
        },
        "trusted": true,
        "colab": {
          "base_uri": "https://localhost:8080/",
          "height": 624
        },
        "outputId": "058331d0-0a31-4f52-8a60-93191b669102"
      },
      "execution_count": null,
      "outputs": [
        {
          "output_type": "execute_result",
          "data": {
            "text/plain": [
              "Text(0.5, 1.0, 'Test Accuracy')"
            ]
          },
          "metadata": {},
          "execution_count": 17
        },
        {
          "output_type": "display_data",
          "data": {
            "text/plain": [
              "<Figure size 1080x720 with 4 Axes>"
            ],
            "image/png": "[encoded data removed]"
          },
          "metadata": {
            "needs_background": "light"
          }
        }
      ]
    },
    {
      "cell_type": "code",
      "source": [
        "fig, axs = plt.subplots(2,2,figsize=(15,10))\n",
        "axs[0, 0].plot([t.cpu().item() for t in train1_losses])\n",
        "axs[0, 0].set_title(\"Training Loss\")\n",
        "axs[1, 0].plot(train1_acc)\n",
        "axs[1, 0].set_title(\"Training Accuracy\")\n",
        "axs[0, 1].plot(test1_losses)\n",
        "axs[0, 1].set_title(\"Test Loss\")\n",
        "axs[1, 1].plot(test1_acc)\n",
        "axs[1, 1].set_title(\"Test Accuracy\")"
      ],
      "metadata": {
        "colab": {
          "base_uri": "https://localhost:8080/",
          "height": 624
        },
        "id": "PZ5IreX_CkUm",
        "outputId": "be2a6845-6882-42c0-ec8f-fbc50948e2ff"
      },
      "execution_count": null,
      "outputs": [
        {
          "output_type": "execute_result",
          "data": {
            "text/plain": [
              "Text(0.5, 1.0, 'Test Accuracy')"
            ]
          },
          "metadata": {},
          "execution_count": 18
        },
        {
          "output_type": "display_data",
          "data": {
            "text/plain": [
              "<Figure size 1080x720 with 4 Axes>"
            ],
            "image/png": "[encoded data removed]"
          },
          "metadata": {
            "needs_background": "light"
          }
        }
      ]
    },
    {
      "cell_type": "code",
      "source": [
        "fig, axs = plt.subplots(2,2,figsize=(15,10))\n",
        "axs[0, 0].plot([t.cpu().item() for t in train2_losses])\n",
        "axs[0, 0].set_title(\"Training Loss\")\n",
        "axs[1, 0].plot(train2_acc)\n",
        "axs[1, 0].set_title(\"Training Accuracy\")\n",
        "axs[0, 1].plot(test2_losses)\n",
        "axs[0, 1].set_title(\"Test Loss\")\n",
        "axs[1, 1].plot(test2_acc)\n",
        "axs[1, 1].set_title(\"Test Accuracy\")"
      ],
      "metadata": {
        "colab": {
          "base_uri": "https://localhost:8080/",
          "height": 624
        },
        "id": "tYsYSYgICkYI",
        "outputId": "41eba3cb-a6f8-4238-eae2-0b1f37980ab9"
      },
      "execution_count": null,
      "outputs": [
        {
          "output_type": "execute_result",
          "data": {
            "text/plain": [
              "Text(0.5, 1.0, 'Test Accuracy')"
            ]
          },
          "metadata": {},
          "execution_count": 19
        },
        {
          "output_type": "display_data",
          "data": {
            "text/plain": [
              "<Figure size 1080x720 with 4 Axes>"
            ],
            "image/png": "[encoded data removed]"
          },
          "metadata": {
            "needs_background": "light"
          }
        }
      ]
    },
    {
      "cell_type": "code",
      "source": [
        "fig, axs = plt.subplots(2,2,figsize=(15,10))\n",
        "\n",
        "axs[0,0].set_title(\"Training Loss\")\n",
        "axs[0, 0].plot([t.cpu().item() for t in train2_losses],color='red',linewidth='1',label='BN with L1 Reg')\n",
        "axs[0,0].plot([t.cpu().item() for t in train1_losses],color='Yellow',label='GN',linewidth='2')\n",
        "axs[0, 0].plot([t.cpu().item() for t in train_losses],color='black',label=\"LN\",linewidth='2')\n",
        "axs[0,0].legend(loc='upper right')\n",
        "\n",
        "axs[1,0].set_title(\"Training Accuracy\")\n",
        "axs[1, 0].plot(train2_acc,color='red',linewidth='1',label='BN with L1 Reg')\n",
        "axs[1,0].plot(train1_acc,color='Yellow',linewidth='1',label='GN')\n",
        "axs[1,0].plot(train_acc,color='black',linewidth='2',label='LN')\n",
        "axs[1,0].legend(loc='upper right')\n",
        "\n",
        "axs[0,1].set_title(\"Test Loss\")\n",
        "axs[0, 1].plot(test2_losses,color='red',linewidth='1',label='BN with L1 Reg')\n",
        "axs[0,1].plot(test1_losses,color='Yellow',linewidth='1',label='GN')\n",
        "axs[0,1].plot(test1_losses,color='black',linewidth='2',label='LN')\n",
        "axs[0,1].legend(loc='upper right')\n",
        "\n",
        "axs[1,1].set_title(\"Test Loss\")\n",
        "axs[1, 1].plot(test2_acc,color='red',linewidth='1',label='BN with L1 Reg')\n",
        "axs[1,1].plot(test1_acc,color='Yellow',linewidth='1',label='GN')\n",
        "axs[1,1].plot(test_acc,color='black',linewidth='2',label='LN')\n",
        "axs[1,1].legend(loc='upper right')"
      ],
      "metadata": {
        "colab": {
          "base_uri": "https://localhost:8080/",
          "height": 624
        },
        "id": "7EDF--FNGIaU",
        "outputId": "db9b3dc2-de4c-4be0-8f69-6f3bda2fb809"
      },
      "execution_count": null,
      "outputs": [
        {
          "output_type": "execute_result",
          "data": {
            "text/plain": [
              "<matplotlib.legend.Legend at 0x7f157dee6280>"
            ]
          },
          "metadata": {},
          "execution_count": 33
        },
        {
          "output_type": "display_data",
          "data": {
            "text/plain": [
              "<Figure size 1080x720 with 4 Axes>"
            ],
            "image/png": "[encoded data removed]"
          },
          "metadata": {
            "needs_background": "light"
          }
        }
      ]
    },
    {
      "cell_type": "markdown",
      "source": [],
      "metadata": {
        "id": "Wjvq5rhbGZSN"
      }
    },
    {
      "cell_type": "code",
      "source": [],
      "metadata": {
        "id": "KsOY_axqGaZk"
      },
      "execution_count": null,
      "outputs": []
    },
    {
      "cell_type": "markdown",
      "source": [
        "# 2. Results:\n",
        "\n",
        "**Note: The best & highest accuracies aren't written here, but the ones with less provoke to overfitting.**\n",
        "\n",
        "**GN has achieved good result**\n",
        "\n",
        "Top Accuracies: \n",
        "\n",
        "**BN with L1 Reg : 98.31 & 97.7**\n",
        "\n",
        "**GN :  99.36 & 99.28**\n",
        "\n",
        "**LN: 99.29 & 99.21**\n",
        "  "
      ],
      "metadata": {
        "id": "r6lenbsK4oRo"
      }
    },
    {
      "cell_type": "markdown",
      "source": [
        "# 3. Analysis:\n",
        "\n",
        "1. Here, LN & GN has performed a quite good, whereas BN + L1 Reg dipped in the performance as compared to them. GN can be considered as a competitive to BN. "
      ],
      "metadata": {
        "id": "PR0CBmwB4oRp"
      }
    }
  ]
}